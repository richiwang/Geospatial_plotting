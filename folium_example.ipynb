{
 "cells": [
  {
   "cell_type": "code",
   "execution_count": 1,
   "metadata": {},
   "outputs": [],
   "source": [
    "import numpy as np\n",
    "import bokeh\n",
    "import plotly\n",
    "import geopandas as gpd\n",
    "import folium\n",
    "from folium import plugins\n",
    "# import rioxarray as rxr\n",
    "# import earthpy as et\n",
    "# import earthpy.spatial as es\n",
    "import pandas as pd\n",
    "import fiona\n",
    "import os, sys\n",
    "import openpyxl as pxl\n",
    "import shapely as shp"
   ]
  },
  {
   "cell_type": "code",
   "execution_count": 2,
   "metadata": {},
   "outputs": [
    {
     "name": "stderr",
     "output_type": "stream",
     "text": [
      "e:\\Programme\\Anaconda\\envs\\geoDS\\lib\\site-packages\\geopandas\\io\\file.py:299: FutureWarning: pandas.Int64Index is deprecated and will be removed from pandas in a future version. Use pandas.Index with the appropriate dtype instead.\n",
      "  pd.Int64Index,\n"
     ]
    }
   ],
   "source": [
    "pd.set_option(\"display.max_columns\", None)\n",
    "\n",
    "pd.set_option(\"display.max_columns\", None)\n",
    "\n",
    "df = gpd.read_file(\"BW_Agrarstruktur.gpkg\", driver = \"GPKG\")\n",
    "\n"
   ]
  },
  {
   "cell_type": "code",
   "execution_count": 17,
   "metadata": {},
   "outputs": [],
   "source": [
    "karte = folium.Map(location=[48.4688, 9.0795], zoom_start=8, control_scale = True, prefer_canvas = True, width = \"100%\", height=800, tiles = \"CartoDBpositron\")"
   ]
  },
  {
   "cell_type": "code",
   "execution_count": 13,
   "metadata": {},
   "outputs": [],
   "source": [
    "karte.save(f\"{pfad_Bofoanalyse}karte.html\")"
   ]
  },
  {
   "cell_type": "code",
   "execution_count": null,
   "metadata": {},
   "outputs": [],
   "source": [
    "# merge.to_file(\".\\\\bawü.geojson\", driver = \"GeoJSON\" )\n",
    "merge.to_file(\".\\\\bawü.gpkg\", driver = \"GPKG\")"
   ]
  }
 ],
 "metadata": {
  "kernelspec": {
   "display_name": "Python 3.9.13 ('geoDS')",
   "language": "python",
   "name": "python3"
  },
  "language_info": {
   "codemirror_mode": {
    "name": "ipython",
    "version": 3
   },
   "file_extension": ".py",
   "mimetype": "text/x-python",
   "name": "python",
   "nbconvert_exporter": "python",
   "pygments_lexer": "ipython3",
   "version": "3.9.13"
  },
  "orig_nbformat": 4,
  "vscode": {
   "interpreter": {
    "hash": "44dcc40e9d9b0facddcc8971795ee89f747f42b4118bbd5d22ce6ee97f722c4e"
   }
  }
 },
 "nbformat": 4,
 "nbformat_minor": 2
}
