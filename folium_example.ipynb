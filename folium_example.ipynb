{
 "cells": [
  {
   "cell_type": "code",
   "execution_count": 2,
   "metadata": {},
   "outputs": [],
   "source": [
    "import geopandas as gpd\n",
    "import folium\n",
    "from folium import plugins\n",
    "import pandas as pd\n"
   ]
  },
  {
   "cell_type": "code",
   "execution_count": 3,
   "metadata": {},
   "outputs": [],
   "source": [
    "pd.set_option(\"display.max_columns\", None)\n",
    "\n",
    "pd.set_option(\"display.max_columns\", None)\n",
    "\n",
    "df = gpd.read_file(\"BW_Agrarstruktur.gpkg\", driver = \"GPKG\")\n",
    "\n"
   ]
  },
  {
   "cell_type": "code",
   "execution_count": 5,
   "metadata": {},
   "outputs": [
    {
     "data": {
      "text/html": [
       "<div>\n",
       "<style scoped>\n",
       "    .dataframe tbody tr th:only-of-type {\n",
       "        vertical-align: middle;\n",
       "    }\n",
       "\n",
       "    .dataframe tbody tr th {\n",
       "        vertical-align: top;\n",
       "    }\n",
       "\n",
       "    .dataframe thead th {\n",
       "        text-align: right;\n",
       "    }\n",
       "</style>\n",
       "<table border=\"1\" class=\"dataframe\">\n",
       "  <thead>\n",
       "    <tr style=\"text-align: right;\">\n",
       "      <th></th>\n",
       "      <th>kreis_name</th>\n",
       "      <th>Betriebsfl_gesamt</th>\n",
       "      <th>LW_Fläche_gesamt</th>\n",
       "      <th>Ackerland</th>\n",
       "      <th>Dauergrünland</th>\n",
       "      <th>Wiesen</th>\n",
       "      <th>Weiden</th>\n",
       "      <th>Wald</th>\n",
       "      <th>LW_Betriebe</th>\n",
       "      <th>Verhältnis_A_Gr</th>\n",
       "      <th>Fläche_LK</th>\n",
       "      <th>Flächenanteil_LW</th>\n",
       "      <th>Flächenanteil_Wald</th>\n",
       "      <th>geometry</th>\n",
       "    </tr>\n",
       "  </thead>\n",
       "  <tbody>\n",
       "    <tr>\n",
       "      <th>0</th>\n",
       "      <td>Stuttgart</td>\n",
       "      <td>2513</td>\n",
       "      <td>2475</td>\n",
       "      <td>1453</td>\n",
       "      <td>569</td>\n",
       "      <td>521</td>\n",
       "      <td>36</td>\n",
       "      <td>11</td>\n",
       "      <td>182</td>\n",
       "      <td>2.6</td>\n",
       "      <td>20716.6713</td>\n",
       "      <td>11.9</td>\n",
       "      <td>0.1</td>\n",
       "      <td>MULTIPOLYGON (((516178.660 5396357.720, 516181...</td>\n",
       "    </tr>\n",
       "    <tr>\n",
       "      <th>1</th>\n",
       "      <td>Böblingen</td>\n",
       "      <td>22982</td>\n",
       "      <td>22483</td>\n",
       "      <td>15160</td>\n",
       "      <td>7231</td>\n",
       "      <td>5825</td>\n",
       "      <td>1032</td>\n",
       "      <td>0</td>\n",
       "      <td>555</td>\n",
       "      <td>2.1</td>\n",
       "      <td>61727.0853</td>\n",
       "      <td>36.4</td>\n",
       "      <td>0.0</td>\n",
       "      <td>MULTIPOLYGON (((489025.350 5376008.330, 489055...</td>\n",
       "    </tr>\n",
       "    <tr>\n",
       "      <th>2</th>\n",
       "      <td>Esslingen</td>\n",
       "      <td>20878</td>\n",
       "      <td>20113</td>\n",
       "      <td>9929</td>\n",
       "      <td>9784</td>\n",
       "      <td>6322</td>\n",
       "      <td>2117</td>\n",
       "      <td>414</td>\n",
       "      <td>629</td>\n",
       "      <td>1.0</td>\n",
       "      <td>64078.2640</td>\n",
       "      <td>31.4</td>\n",
       "      <td>0.6</td>\n",
       "      <td>MULTIPOLYGON (((512654.280 5382821.010, 512654...</td>\n",
       "    </tr>\n",
       "    <tr>\n",
       "      <th>3</th>\n",
       "      <td>Göppingen</td>\n",
       "      <td>34135</td>\n",
       "      <td>27956</td>\n",
       "      <td>12209</td>\n",
       "      <td>15599</td>\n",
       "      <td>12099</td>\n",
       "      <td>3169</td>\n",
       "      <td>0</td>\n",
       "      <td>706</td>\n",
       "      <td>0.8</td>\n",
       "      <td>64187.1533</td>\n",
       "      <td>43.6</td>\n",
       "      <td>0.0</td>\n",
       "      <td>MULTIPOLYGON (((551230.720 5376667.750, 551235...</td>\n",
       "    </tr>\n",
       "    <tr>\n",
       "      <th>4</th>\n",
       "      <td>Ludwigsburg</td>\n",
       "      <td>33411</td>\n",
       "      <td>32339</td>\n",
       "      <td>24113</td>\n",
       "      <td>5869</td>\n",
       "      <td>5067</td>\n",
       "      <td>495</td>\n",
       "      <td>643</td>\n",
       "      <td>1121</td>\n",
       "      <td>4.1</td>\n",
       "      <td>68622.4819</td>\n",
       "      <td>47.1</td>\n",
       "      <td>0.9</td>\n",
       "      <td>MULTIPOLYGON (((529020.340 5434150.350, 529021...</td>\n",
       "    </tr>\n",
       "  </tbody>\n",
       "</table>\n",
       "</div>"
      ],
      "text/plain": [
       "    kreis_name  Betriebsfl_gesamt  LW_Fläche_gesamt  Ackerland  Dauergrünland   \n",
       "0    Stuttgart               2513              2475       1453            569  \\\n",
       "1    Böblingen              22982             22483      15160           7231   \n",
       "2    Esslingen              20878             20113       9929           9784   \n",
       "3    Göppingen              34135             27956      12209          15599   \n",
       "4  Ludwigsburg              33411             32339      24113           5869   \n",
       "\n",
       "   Wiesen  Weiden  Wald  LW_Betriebe  Verhältnis_A_Gr   Fläche_LK   \n",
       "0     521      36    11          182              2.6  20716.6713  \\\n",
       "1    5825    1032     0          555              2.1  61727.0853   \n",
       "2    6322    2117   414          629              1.0  64078.2640   \n",
       "3   12099    3169     0          706              0.8  64187.1533   \n",
       "4    5067     495   643         1121              4.1  68622.4819   \n",
       "\n",
       "   Flächenanteil_LW  Flächenanteil_Wald   \n",
       "0              11.9                 0.1  \\\n",
       "1              36.4                 0.0   \n",
       "2              31.4                 0.6   \n",
       "3              43.6                 0.0   \n",
       "4              47.1                 0.9   \n",
       "\n",
       "                                            geometry  \n",
       "0  MULTIPOLYGON (((516178.660 5396357.720, 516181...  \n",
       "1  MULTIPOLYGON (((489025.350 5376008.330, 489055...  \n",
       "2  MULTIPOLYGON (((512654.280 5382821.010, 512654...  \n",
       "3  MULTIPOLYGON (((551230.720 5376667.750, 551235...  \n",
       "4  MULTIPOLYGON (((529020.340 5434150.350, 529021...  "
      ]
     },
     "execution_count": 5,
     "metadata": {},
     "output_type": "execute_result"
    }
   ],
   "source": [
    "df.head()"
   ]
  },
  {
   "cell_type": "code",
   "execution_count": 4,
   "metadata": {},
   "outputs": [
    {
     "data": {
      "text/plain": [
       "geopandas.geodataframe.GeoDataFrame"
      ]
     },
     "execution_count": 4,
     "metadata": {},
     "output_type": "execute_result"
    }
   ],
   "source": [
    "type(df)"
   ]
  },
  {
   "cell_type": "code",
   "execution_count": null,
   "metadata": {},
   "outputs": [],
   "source": [
    "# create the map canvas.  the map will be centered based on the coordinates stated in the 'location' argument. Pley around with the other arguments to see what they do. Look up the documentation or ask your LLM of choice.\n",
    "\n",
    "karte = folium.Map(location=[48.4688, 9.0795], zoom_start=8, control_scale = True, prefer_canvas = True, width = \"100%\", height=800, tiles = \"CartoDBpositron\")"
   ]
  },
  {
   "cell_type": "code",
   "execution_count": null,
   "metadata": {},
   "outputs": [],
   "source": [
    "folium.TileLayer(opacity=0.01).add_to(karte)\n",
    "\n",
    "\n",
    "#define the chloropleth variables.\n",
    "karte.choropleth(geo_data=df,\n",
    "            data=df,\n",
    "            name = \"choropleth\",\n",
    "            columns=['kreis_name','Flächenanteil_LW',],\n",
    "            key_on='feature.properties.kreis_name', \n",
    "            fill_color='Greens', fill_opacity=0.6, line_opacity=0.9,\n",
    "            legend_name='Anteil landwirtschaftlich genutzte Fläche im Landkreis',\n",
    "            nan_fill_color=\"White\", #Use white color if there is no data available for the county\n",
    "            highlight=True,\n",
    "            line_color='black')\n",
    "\n",
    "\n",
    "# # add the information of each landkreis (municiaplity) as a popup to the map.\n",
    "folium.features.GeoJson(data=df,\n",
    "                        name='Flächenanteil der landwirtschaftlich genutzten Fläche (%)',\n",
    "                        smooth_factor=2,\n",
    "                        style_function=lambda x: {'color':'black','fillColor':'transparent','weight':0.9},\n",
    "                        tooltip=folium.features.GeoJsonTooltip(\n",
    "                            fields=['kreis_name',\n",
    "                                    'Flächenanteil_LW'\n",
    "                                    ],\n",
    "                            aliases=[\"Landkreis\",\n",
    "                                    \"Flächenanteil der landwirtschaftlich genutzte Fläche (%)\"\n",
    "                                    ], \n",
    "                            localize=True,\n",
    "                            sticky=False,\n",
    "                            labels=True,\n",
    "                            style=\"\"\"\n",
    "                                background-color: #F0EFEF;\n",
    "                                border: 2px solid black;\n",
    "                                border-radius: 3px;\n",
    "                                box-shadow: 3px;\n",
    "                            \"\"\",\n",
    "                            max_width=800,),\n",
    "                                highlight_function=lambda x: {'weight':4,'fillColor':'grey'},\n",
    "                            ).add_to(karte)   \n",
    "\n"
   ]
  },
  {
   "cell_type": "code",
   "execution_count": null,
   "metadata": {},
   "outputs": [],
   "source": [
    "karte # show the map"
   ]
  },
  {
   "cell_type": "code",
   "execution_count": null,
   "metadata": {},
   "outputs": [],
   "source": [
    "karte.save(f\"{pfad_Bofoanalyse}karte.html\")"
   ]
  },
  {
   "cell_type": "code",
   "execution_count": null,
   "metadata": {},
   "outputs": [],
   "source": [
    "# merge.to_file(\".\\\\bawü.geojson\", driver = \"GeoJSON\" )\n",
    "merge.to_file(\".\\\\bawü.gpkg\", driver = \"GPKG\")"
   ]
  }
 ],
 "metadata": {
  "kernelspec": {
   "display_name": "Python 3.9.13 ('geoDS')",
   "language": "python",
   "name": "python3"
  },
  "language_info": {
   "codemirror_mode": {
    "name": "ipython",
    "version": 3
   },
   "file_extension": ".py",
   "mimetype": "text/x-python",
   "name": "python",
   "nbconvert_exporter": "python",
   "pygments_lexer": "ipython3",
   "version": "3.9.8"
  },
  "orig_nbformat": 4,
  "vscode": {
   "interpreter": {
    "hash": "44dcc40e9d9b0facddcc8971795ee89f747f42b4118bbd5d22ce6ee97f722c4e"
   }
  }
 },
 "nbformat": 4,
 "nbformat_minor": 2
}
