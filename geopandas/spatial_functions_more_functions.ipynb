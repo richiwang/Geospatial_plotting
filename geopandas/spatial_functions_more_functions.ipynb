{
 "cells": [
  {
   "cell_type": "markdown",
   "metadata": {},
   "source": [
    "# More spatial functions\n",
    "\n",
    "## Measurement\n",
    "\n",
    "distance(geometry) - called on a geometry and returns distance to another geometry.\n"
   ]
  },
  {
   "cell_type": "code",
   "execution_count": null,
   "metadata": {},
   "outputs": [],
   "source": [
    "%matplotlib inline\n",
    "import geopandas as gpd\n",
    "\n",
    "eagle = gpd.read_file(\"data/BAEA_Nests.shp\")\n",
    "eagle.to_crs(epsg=26913, inplace=True)\n",
    "eagle.plot()"
   ]
  },
  {
   "cell_type": "code",
   "execution_count": null,
   "metadata": {},
   "outputs": [],
   "source": [
    "eagle['geometry'].y.mean()"
   ]
  },
  {
   "cell_type": "code",
   "execution_count": null,
   "metadata": {},
   "outputs": [],
   "source": [
    "eagle['geometry'].x.mean()"
   ]
  },
  {
   "cell_type": "code",
   "execution_count": null,
   "metadata": {},
   "outputs": [],
   "source": [
    "import shapely.geometry as shp\n",
    "eagle_center = shp.Point(eagle['geometry'].x.mean(), eagle['geometry'].y.mean())\n",
    "eagle['distance_to_center'] = eagle['geometry'].distance(eagle_center)\n",
    "eagle.plot(column='distance_to_center', cmap='Reds')"
   ]
  },
  {
   "cell_type": "code",
   "execution_count": null,
   "metadata": {},
   "outputs": [],
   "source": [
    "eagle.sort_values('distance_to_center', ascending=False).head(16)"
   ]
  },
  {
   "cell_type": "code",
   "execution_count": null,
   "metadata": {},
   "outputs": [],
   "source": [
    "eagle = eagle[eagle['distance_to_center']<46000]"
   ]
  },
  {
   "cell_type": "markdown",
   "metadata": {},
   "source": [
    "## Spatial predicates\n",
    "\n",
    "Compare two geometries and return True or False\n",
    "\n",
    "We discussed the intersects predicate previously but there are many more.\n",
    "\n",
    "*.intersects(other)* returns true if any part of the geometry it is called on touches any part of another geometry\n",
    "\n",
    "*.equals(other)* returns true if the geometries are exactly equivalent\n",
    "\n",
    "*.almost_equal(other, tolerance)* returns true if the geometries are equal within the given tolerance level.\n",
    "\n",
    "*.contains(other)* returns true if the geometry it is called in completely encompasses the other\n",
    "\n",
    "*.within(other)* the opposite of contains\n",
    "\n",
    "Other spatial predicates include *touches, crosses, overlap, disjoint*\n",
    "\n",
    "You can read the [shapely documentation](https://shapely.readthedocs.io/en/stable/manual.html) for more information about these predicates.\n",
    "\n",
    "More complex relstionships can be formed using the DE91M method.  More information on this can be foud in [wikipedia](https://en.wikipedia.org/wiki/DE-9IM#:~:text=compact%20representation%20of%20.-,Spatial%20predicates,defined%20for%20some%20common%20relations.) or in the shapely documentation\n",
    "\n",
    "Lets use the within predicate to view raptor nests within Boulder county.  First we'll get a polygon representing Boulder County"
   ]
  },
  {
   "cell_type": "code",
   "execution_count": null,
   "metadata": {},
   "outputs": [],
   "source": [
    "counties = gpd.read_file(\"data/colorado_counties.shp\")\n",
    "boulder_county = counties[counties['NAMELSAD10']=='Boulder County'].unary_union\n",
    "boulder_county"
   ]
  },
  {
   "cell_type": "markdown",
   "metadata": {},
   "source": [
    "Next we'll read in the raptor file to a GeoDataFrame"
   ]
  },
  {
   "cell_type": "code",
   "execution_count": null,
   "metadata": {},
   "outputs": [],
   "source": [
    "raptors = gpd.read_file(\"data/Raptor_Nests.shp\")\n",
    "raptors"
   ]
  },
  {
   "cell_type": "markdown",
   "metadata": {},
   "source": [
    "Now lets view the subset of raptor nests within Boulder county"
   ]
  },
  {
   "cell_type": "code",
   "execution_count": null,
   "metadata": {},
   "outputs": [],
   "source": [
    "boulder_nests = raptors[raptors['geometry'].within(boulder_county)]\n",
    "boulder_nests.describe()"
   ]
  },
  {
   "cell_type": "markdown",
   "metadata": {},
   "source": [
    "We can see that this dataset contains only 40 nests out of the original 879"
   ]
  },
  {
   "cell_type": "code",
   "execution_count": null,
   "metadata": {},
   "outputs": [],
   "source": [
    "basemap = counties[counties['NAMELSAD10']=='Boulder County'].plot(facecolor='none', edgecolor='k', figsize=(15, 15))\n",
    "boulder_nests.plot(ax=basemap, color='red')"
   ]
  },
  {
   "cell_type": "markdown",
   "metadata": {},
   "source": [
    "And when we plot it out we can see that we do only see the nests tht are WITHIN Boulder County.\n",
    "\n",
    "The thing to remember is that spatial predicates test a relationshipo between two geometries and return True or False.  They can be used anywhere a logical expression is called for such as when subsetting a GeoDataFrame.\n",
    "\n",
    "# Spatial operators - return geometry\n",
    "\n",
    "We have alread looked at the intersection operator.  An intersection is basically a spatial AND operator. It returns the area that is in both geometries.\n",
    "\n",
    "Others include union which is a spatial OR operator and includes the area that is in one geometry OR the other.\n",
    "\n",
    "Symetric difference is a spatial XOR operator.  It includes areas that are in one OR the other but NOT in both.\n",
    "\n",
    "Difference is a spatial subtraction. It removes the area in the other geometry from the geometry that it is called on. Notice that unlike the other 3 spatial oerators, the order in which they are evaluated is important.  In other words $(A - B) \\ne (B - A)$. Again, more info is available in the [Shapely users manual](https://shapely.readthedocs.io/en/stable/manual.html).\n",
    "\n",
    "Lets look at an example of using the difference operator to make ring buffers around the burrowing owl habitat.  First we will read in the buowl habitat shape file, then convert it to UTM coordinates and create a 300m buffer"
   ]
  },
  {
   "cell_type": "code",
   "execution_count": null,
   "metadata": {},
   "outputs": [],
   "source": [
    "buowl = gpd.read_file(\"data/BUOWL_Habitat.shp\")\n",
    "buowl.to_crs(epsg=26913, inplace=True)\n",
    "buowl['buffer'] = buowl['geometry'].buffer(300)"
   ]
  },
  {
   "cell_type": "markdown",
   "metadata": {},
   "source": [
    "Next lets create ring buffers by subtracting the original geometry from the buffer.  We also need to fix some invalid geometries in the original data by calling a buffer of size 0 which will often recreate invalid geometries in proper form"
   ]
  },
  {
   "cell_type": "code",
   "execution_count": null,
   "metadata": {},
   "outputs": [],
   "source": [
    "buowl['geometry'] = buowl['geometry'].buffer(0) # Necessary to fix invalid geometry\n",
    "buowl['ring_buffer'] = buowl['buffer'].difference(buowl['geometry'])\n",
    "buowl.set_geometry('ring_buffer').cx[500000:520000, 4440000:4460000].plot(figsize=(15,15))"
   ]
  },
  {
   "cell_type": "markdown",
   "metadata": {},
   "source": [
    "If we calculate the areas of all three geometries we see that the area of the original geometry plus the ring buffer = the area of the buffer"
   ]
  },
  {
   "cell_type": "code",
   "execution_count": null,
   "metadata": {},
   "outputs": [],
   "source": [
    "buowl['area_ha']=buowl['geometry'].area/10000\n",
    "buowl['buffer_ha']=buowl['buffer'].area/10000\n",
    "buowl['ring_ha']=buowl['ring_buffer'].area/10000\n",
    "buowl['buf_minus_ring_ha']=buowl['buffer_ha']-buowl['ring_ha']\n",
    "buowl"
   ]
  },
  {
   "cell_type": "markdown",
   "metadata": {},
   "source": [
    "## The overlay method\n",
    "\n",
    "Takes two complete data frames as a parameter plus a how parameter.\n",
    "\n",
    "We have loooked at the case where how='intersection' which returns a new data frame in much the same way as performing an intersection in desktop GIS.\n",
    "\n",
    "Other possibilities include union, identity, difference, and symetric_difference\n",
    "\n",
    "Lets perform a difference operation that will subtract 1 mile buffers from raptor nests from Weld county and return it as a dataframe called 'unimpacted_weld'"
   ]
  },
  {
   "cell_type": "code",
   "execution_count": null,
   "metadata": {},
   "outputs": [],
   "source": [
    "counties.to_crs(epsg=26913, inplace=True)\n",
    "raptors.to_crs(epsg=26913, inplace=True) #Convert both dataframes to UTM coordinates\n",
    "\n",
    "raptors['buffer']= raptors['geometry'].buffer(1600)\n",
    "raptors.set_geometry('buffer', inplace=True) #Create 1 mile buffers around raptor nests and set to default geometry\n",
    "\n",
    "unimpacted_weld = gpd.overlay(counties[counties['NAMELSAD10']=='Weld County'], raptors, how='difference')\n",
    "\n",
    "unimpacted_weld.plot(figsize=(15,15))"
   ]
  },
  {
   "cell_type": "code",
   "execution_count": null,
   "metadata": {},
   "outputs": [],
   "source": []
  }
 ],
 "metadata": {
  "kernelspec": {
   "display_name": "Python 3",
   "language": "python",
   "name": "python3"
  },
  "language_info": {
   "codemirror_mode": {
    "name": "ipython",
    "version": 3
   },
   "file_extension": ".py",
   "mimetype": "text/x-python",
   "name": "python",
   "nbconvert_exporter": "python",
   "pygments_lexer": "ipython3",
   "version": "3.7.3"
  }
 },
 "nbformat": 4,
 "nbformat_minor": 4
}
