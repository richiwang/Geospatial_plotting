{
 "cells": [
  {
   "cell_type": "markdown",
   "metadata": {},
   "source": [
    "# The GeoPandas collect method\n",
    "\n",
    "The collect method is called on the tools module of the GeoPandas object.  It takes a GeoDataSeries or other Python iterable of simple geometries and combines them into a single multi-type geometry.\n",
    "\n",
    "Lets load some data."
   ]
  },
  {
   "cell_type": "code",
   "execution_count": null,
   "metadata": {},
   "outputs": [],
   "source": [
    "%matplotlib inline\n",
    "import geopandas as gpd\n",
    "\n",
    "raptor = gpd.read_file(\"data/Raptor_Nests.shp\")\n",
    "raptor"
   ]
  },
  {
   "cell_type": "code",
   "execution_count": null,
   "metadata": {},
   "outputs": [],
   "source": [
    "active_nests = raptor[raptor['recentstat']=='ACTIVE NEST']['geometry']\n",
    "active_nests"
   ]
  },
  {
   "cell_type": "code",
   "execution_count": null,
   "metadata": {},
   "outputs": [],
   "source": [
    "active_nests = gpd.tools.collect(active_nests)\n",
    "active_nests.type"
   ]
  },
  {
   "cell_type": "code",
   "execution_count": null,
   "metadata": {},
   "outputs": [],
   "source": [
    "active_nests"
   ]
  },
  {
   "cell_type": "markdown",
   "metadata": {},
   "source": [
    "# Converting all geometries to multi types.\n",
    "\n",
    "In GeoPandas, like PostGIS it is possible to have multiple geometry types in a single geometry column.  Although this can have useful applications, it can cause issues with certain data storage formats.  It can also cause problems when importing into certain software and if you manipulate the geometry from other platforms as we saw in the last lecture where we had to account for the possibility that the geometry of the linear table could be either a LineString or a MultiLineString\n",
    "\n",
    "As a result it is often preferable to convert all single type geometries to multi-type geometries in order to provide a consistent analysis and programming platform.  We can use the collect method for this purpose as well by setting its multi parameter equal to True in order to force the resulting geometry into a multi-type geometry. \n",
    "\n",
    "This is actually what I have used the collect method for the most.\n",
    "\n",
    "Lets convert the point geometries of the raptor GeoDataFrame to MultiPoint geometry."
   ]
  },
  {
   "cell_type": "code",
   "execution_count": null,
   "metadata": {},
   "outputs": [],
   "source": [
    "raptor.head()"
   ]
  },
  {
   "cell_type": "code",
   "execution_count": null,
   "metadata": {},
   "outputs": [],
   "source": [
    "raptor['geometry'] = gpd.tools.collect(raptor['geometry'], multi=True)\n",
    "raptor.head()"
   ]
  },
  {
   "cell_type": "code",
   "execution_count": null,
   "metadata": {},
   "outputs": [],
   "source": []
  }
 ],
 "metadata": {
  "kernelspec": {
   "display_name": "Python 3",
   "language": "python",
   "name": "python3"
  },
  "language_info": {
   "codemirror_mode": {
    "name": "ipython",
    "version": 3
   },
   "file_extension": ".py",
   "mimetype": "text/x-python",
   "name": "python",
   "nbconvert_exporter": "python",
   "pygments_lexer": "ipython3",
   "version": "3.7.3"
  }
 },
 "nbformat": 4,
 "nbformat_minor": 4
}
