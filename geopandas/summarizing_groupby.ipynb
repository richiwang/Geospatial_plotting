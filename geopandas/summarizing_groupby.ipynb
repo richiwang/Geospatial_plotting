{
 "cells": [
  {
   "cell_type": "markdown",
   "metadata": {},
   "source": [
    "# Summarizing data\n",
    "\n",
    "Pandas has a number of functions for summarizing data.\n",
    "\n",
    "Those with a database background will probably be most. comfortable with the GroupBy method and the agg method. \n",
    "\n",
    "Those who are more used to working with spreadsheets might be most comfortable with the pivot_table method.\n",
    "\n",
    "Either way, Pandas has you covered, although there is a lot of overlap between the two.\n",
    "\n",
    "Lets read in the data we created in the lecture on intersections"
   ]
  },
  {
   "cell_type": "code",
   "execution_count": null,
   "metadata": {},
   "outputs": [],
   "source": [
    "%matplotlib inline\n",
    "import geopandas as gpd\n",
    "\n",
    "raptor_buffer = gpd.read_file('data/intersections.gpkg', layer = 'raptor_buffer')\n",
    "raptor_linear = gpd.read_file('data/intersections.gpkg', layer = 'raptor_linear')"
   ]
  },
  {
   "cell_type": "code",
   "execution_count": null,
   "metadata": {},
   "outputs": [],
   "source": [
    "raptor_buffer.sort_values('Nest_ID')"
   ]
  },
  {
   "cell_type": "markdown",
   "metadata": {},
   "source": [
    "With this data we can ask questions like \"What projects are impacted by Nest 68?\""
   ]
  },
  {
   "cell_type": "code",
   "execution_count": null,
   "metadata": {},
   "outputs": [],
   "source": [
    "raptor_buffer[raptor_buffer['Nest_ID']==68]"
   ]
  },
  {
   "cell_type": "markdown",
   "metadata": {},
   "source": [
    "## Aggregate functions \n",
    "\n",
    "Or \"How many acres of ROW are impacted by Nest 68?\""
   ]
  },
  {
   "cell_type": "code",
   "execution_count": null,
   "metadata": {},
   "outputs": [],
   "source": [
    "raptor_buffer[raptor_buffer['Nest_ID']==68].sum()['area_ha']"
   ]
  },
  {
   "cell_type": "markdown",
   "metadata": {},
   "source": [
    "## Challenge!\n",
    "\n",
    "How many meters of the linear Project 1107 are impacted by Raptor nests?"
   ]
  },
  {
   "cell_type": "code",
   "execution_count": null,
   "metadata": {},
   "outputs": [],
   "source": [
    "raptor_linear[raptor_linear['Project']==1107]['length_intersection'].sum()"
   ]
  },
  {
   "cell_type": "markdown",
   "metadata": {},
   "source": [
    "You can also use other aggregate functions like count(), mean(), std(), min(), max(), etc.  A full list can be found at [Panda's aggregate functions](https://cmdlinetips.com/2019/10/pandas-groupby-13-functions-to-aggregate/)"
   ]
  },
  {
   "cell_type": "code",
   "execution_count": null,
   "metadata": {},
   "outputs": [],
   "source": [
    "raptor_linear[raptor_linear['Project']==1107]['length_intersection'].mean()"
   ]
  },
  {
   "cell_type": "markdown",
   "metadata": {},
   "source": [
    "You can also use the describe method to get a full set of aggregate functions"
   ]
  },
  {
   "cell_type": "code",
   "execution_count": null,
   "metadata": {},
   "outputs": [],
   "source": [
    "raptor_linear[raptor_linear['Project']==1107]['length_intersection'].describe()"
   ]
  },
  {
   "cell_type": "markdown",
   "metadata": {},
   "source": [
    "## The groupby method\n",
    "\n",
    "The group by method in Pandas allows you to summarize a set of data agregated over one or more groups.\n",
    "\n",
    "The basic syntax is a column name or set of column names and an aggregate function as follows"
   ]
  },
  {
   "cell_type": "code",
   "execution_count": null,
   "metadata": {},
   "outputs": [],
   "source": [
    "raptor_buffer.groupby(['Project']).sum()"
   ]
  },
  {
   "cell_type": "markdown",
   "metadata": {},
   "source": [
    "Note that Project is now a named index.  It doesn't make much sense to sum the *Nest_ID* or *length_m* fields.  But it is interesting to see the sum of each project that is impacted by raptor nests.  Lets look at just the *area_ha* column sorted by area."
   ]
  },
  {
   "cell_type": "code",
   "execution_count": null,
   "metadata": {},
   "outputs": [],
   "source": [
    "raptor_buffer.groupby(['Project']).sum()['area_ha'].sort_values()"
   ]
  },
  {
   "cell_type": "markdown",
   "metadata": {},
   "source": [
    "We might also be interested in seeing the number of nests impacted by each project"
   ]
  },
  {
   "cell_type": "code",
   "execution_count": null,
   "metadata": {},
   "outputs": [],
   "source": [
    "raptor_buffer.groupby(['Project']).count()['area_ha'].sort_values()"
   ]
  },
  {
   "cell_type": "markdown",
   "metadata": {},
   "source": [
    "Or in how many projects are impacted by each nest"
   ]
  },
  {
   "cell_type": "code",
   "execution_count": null,
   "metadata": {},
   "outputs": [],
   "source": [
    "raptor_buffer.groupby(['Nest_ID']).count()['area_ha'].sort_values()"
   ]
  },
  {
   "cell_type": "markdown",
   "metadata": {},
   "source": [
    "If you want more detail we can add a second level of grouping.  For instance to see how many acreas of each project are impacted by each species of raptor."
   ]
  },
  {
   "cell_type": "code",
   "execution_count": null,
   "metadata": {},
   "outputs": [],
   "source": [
    "raptor_buffer.groupby(['Project', 'recentspec']).sum()['area_ha']"
   ]
  },
  {
   "cell_type": "markdown",
   "metadata": {},
   "source": [
    "And we can go even further to group by nest status just by adding a third grouping column"
   ]
  },
  {
   "cell_type": "code",
   "execution_count": null,
   "metadata": {},
   "outputs": [],
   "source": [
    "raptor_buffer.groupby(['Project', 'recentspec', 'recentstat']).count()['area_ha']"
   ]
  },
  {
   "cell_type": "markdown",
   "metadata": {},
   "source": [
    "At this level of detail however it might make more sense to set the first level of grouping to a broader category like project type"
   ]
  },
  {
   "cell_type": "code",
   "execution_count": null,
   "metadata": {},
   "outputs": [],
   "source": [
    "raptor_buffer.groupby(['type', 'recentspec', 'recentstat']).count()['area_ha']"
   ]
  },
  {
   "cell_type": "markdown",
   "metadata": {},
   "source": [
    "## The agg method\n",
    "\n",
    "Can be applied to any dataframe.\n",
    "\n",
    "Allows you to specify exactly which aggregate functions to display for each column.\n",
    "\n",
    "You can provide a list of aggregate functions which will be applied to each numeric column."
   ]
  },
  {
   "cell_type": "code",
   "execution_count": null,
   "metadata": {},
   "outputs": [],
   "source": [
    "raptor_buffer.groupby(['type', 'recentspec', 'recentstat']).agg(['count', 'sum'])['area_ha']"
   ]
  },
  {
   "cell_type": "markdown",
   "metadata": {},
   "source": [
    "Or, if you want more fine-scale control of what is included,  you can provide a dictionary mapping columns to a list of aggregate functions for that column."
   ]
  },
  {
   "cell_type": "code",
   "execution_count": null,
   "metadata": {},
   "outputs": [],
   "source": [
    "raptor_buffer.groupby(['type', 'recentspec', 'recentstat']).agg({\"Nest_ID\":['count'], \"area_ha\":['sum','mean','std']})"
   ]
  },
  {
   "cell_type": "markdown",
   "metadata": {},
   "source": [
    "## Challenge #2\n",
    "\n",
    "How many electric lines have swainson hawk nests within 333 meters and how many nests are affected by each electric line"
   ]
  },
  {
   "cell_type": "code",
   "execution_count": null,
   "metadata": {},
   "outputs": [],
   "source": [
    "raptor_buffer[raptor_buffer['type']=='Electric Line'][raptor_buffer['recentspec']=='Swainsons Hawk'].groupby(['Project', 'recentspec']).agg({\"Nest_ID\":['count']})"
   ]
  },
  {
   "cell_type": "code",
   "execution_count": null,
   "metadata": {},
   "outputs": [],
   "source": []
  }
 ],
 "metadata": {
  "kernelspec": {
   "display_name": "Python 3",
   "language": "python",
   "name": "python3"
  },
  "language_info": {
   "codemirror_mode": {
    "name": "ipython",
    "version": 3
   },
   "file_extension": ".py",
   "mimetype": "text/x-python",
   "name": "python",
   "nbconvert_exporter": "python",
   "pygments_lexer": "ipython3",
   "version": "3.7.3"
  }
 },
 "nbformat": 4,
 "nbformat_minor": 4
}
