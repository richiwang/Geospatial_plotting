{
 "cells": [
  {
   "cell_type": "markdown",
   "metadata": {},
   "source": [
    "# Apply methods with more than one parameter\n",
    "\n",
    "Previously we used the apply method to determine the proper buffer size of raptor nests based on the value of the *recentspec* column. This method works well when we want to calculate a new column value based on the value of a single column but what if we need to use the value of 2 or more columns?\n",
    "\n",
    "This is possible, but I will be the first to admit that the syntax is a bit confusing. Nevertheless it is important and I will do my best to explain it."
   ]
  },
  {
   "cell_type": "code",
   "execution_count": null,
   "metadata": {},
   "outputs": [],
   "source": [
    "%matplotlib inline\n",
    "import geopandas as gpd\n",
    "\n",
    "raptor = gpd.read_file(\"data/Raptor_Nests.shp\")"
   ]
  },
  {
   "cell_type": "markdown",
   "metadata": {},
   "source": [
    "Lets take a look at the function we created in a previous lecture."
   ]
  },
  {
   "cell_type": "code",
   "execution_count": null,
   "metadata": {},
   "outputs": [],
   "source": [
    "def calc_raptor_buffer(spec):\n",
    "    if spec=='Swainsons Hawk':\n",
    "        return 333\n",
    "    elif spec=='Northern Harrier':\n",
    "        return 500\n",
    "    else:\n",
    "        return 667"
   ]
  },
  {
   "cell_type": "markdown",
   "metadata": {},
   "source": [
    "And adapt it so that we also consider the *neststat* column as a factor in determining the buffer size.  Writing the function is easy"
   ]
  },
  {
   "cell_type": "code",
   "execution_count": null,
   "metadata": {},
   "outputs": [],
   "source": [
    "def calc_raptor_buffer(spec, stat):\n",
    "    if spec == 'Swainsons Hawk':\n",
    "        if stat == 'ACTIVE NEST':\n",
    "            return 500\n",
    "        else:\n",
    "            return 333\n",
    "    elif spec == 'Red-tail Hawk':\n",
    "        if stat == 'ACTIVE NEST':\n",
    "            return 800\n",
    "        else:\n",
    "            return 667\n",
    "    else:\n",
    "        return 500\n",
    "        "
   ]
  },
  {
   "cell_type": "markdown",
   "metadata": {},
   "source": [
    "But how do we apply this function that takes more than 1 parameter to a column when that column only has a single value?\n",
    "\n",
    "Pandas is a rich and full-featured library and it turns out that there are multiple ways to accomplish this.  Check out this link to [stackoverflow](https://stackoverflow.com/questions/13331698/how-to-apply-a-function-to-two-columns-of-pandas-dataframe) for a complete discussion.  But the syntax that I prefer is below."
   ]
  },
  {
   "cell_type": "code",
   "execution_count": null,
   "metadata": {},
   "outputs": [],
   "source": [
    "raptor['buffer_dist']=raptor.apply(lambda raptor: calc_raptor_buffer(raptor['recentspec'], raptor['recentstat']), axis=1)\n",
    "raptor.head()"
   ]
  },
  {
   "cell_type": "markdown",
   "metadata": {},
   "source": [
    "Again, I will be the first to admit that this syntax is confusing and unfortunate.  Hopefully someone will come up with a more straightforward way in the future.\n",
    "\n",
    "But lets walk through this one step at a time and hopefully it will make more sense.\n",
    "\n",
    "First of all notice that in this example we are calling apply on an entire dataframe and not a single column as in the past.  This is critical to understanding how this works.\n",
    "\n",
    "Because apply is called on the entire dataframe, the entire dataframe is what is received in the lambda function.\n",
    "\n",
    "Recall that a lambda function takes an input value and returns an output. (*lambda x: x\\*\\*2* takes x and returns x squared)  In this case the input value is the entire dataframe so we can then use Pandas methods to specify individual fields.\n",
    "\n",
    "**NOTE:** when used on an entire dataframe rather than a single column it is necessary to specify that axis=1.  The default axis=0 references index values and we want to reference column values.\n",
    "\n",
    "Perhaps it will be more clear if we simplify the lambda expression a bit by referring to the inout value as x rather than raptor."
   ]
  },
  {
   "cell_type": "code",
   "execution_count": null,
   "metadata": {},
   "outputs": [],
   "source": [
    "raptor['buffer_dist2']=raptor.apply(lambda x: calc_raptor_buffer(x['recentspec'], x['recentstat']), axis=1)\n",
    "raptor.head()"
   ]
  },
  {
   "cell_type": "markdown",
   "metadata": {},
   "source": [
    "Another possibility is to rewrite the function so that it takes the entire dataframe as a single input parameter and then specifies the individual column as needed insidce the function."
   ]
  },
  {
   "cell_type": "code",
   "execution_count": null,
   "metadata": {},
   "outputs": [],
   "source": [
    "def calc_raptor_buffer(x):\n",
    "    if x['recentspec'] == 'Swainsons Hawk':\n",
    "        if x['recentstat'] == 'ACTIVE NEST':\n",
    "            return 500\n",
    "        else:\n",
    "            return 333\n",
    "    elif x['recentspec'] == 'Red-tail Hawk':\n",
    "        if x['recentstat'] == 'ACTIVE NEST':\n",
    "            return 800\n",
    "        else:\n",
    "            return 667\n",
    "    else:\n",
    "        return 500\n",
    "    \n",
    "raptor['buffer_dist3']=raptor.apply(calc_raptor_buffer, axis=1)\n",
    "raptor.head()"
   ]
  },
  {
   "cell_type": "markdown",
   "metadata": {},
   "source": [
    "In retrospect this seems like the most strightforward way to approach this problem.  There is a reason, however, that I did not start with this approach.  Although it works, there are significant performance advantages that can be achieved by vectorizing functions using NumPy's vectorize method and to the best of my knowledge it is not possible to vectorize a function written in this way.\n",
    "\n",
    "## Vectorizing the apply function\n",
    "\n",
    "To understand how this works lets return to the previous example but this time we are interested in performance so we will time it over 50 repititions."
   ]
  },
  {
   "cell_type": "code",
   "execution_count": null,
   "metadata": {},
   "outputs": [],
   "source": [
    "import time\n",
    "\n",
    "def calc_raptor_buffer(x):\n",
    "    if x['recentspec'] == 'Swainsons Hawk':\n",
    "        if x['recentstat'] == 'ACTIVE NEST':\n",
    "            return 500\n",
    "        else:\n",
    "            return 333\n",
    "    elif x['recentspec'] == 'Red-tail Hawk':\n",
    "        if x['recentstat'] == 'ACTIVE NEST':\n",
    "            return 800\n",
    "        else:\n",
    "            return 667\n",
    "    else:\n",
    "        return 500\n",
    "    \n",
    "ts = time.time()\n",
    "for i in range(50):  #Repeat 50 times to get a better time value\n",
    "    raptor['buffer_dist3']=raptor.apply(calc_raptor_buffer, axis=1)\n",
    "te = time.time()\n",
    "\n",
    "print(\"Elapsed time: {:5.5f}\".format(te-ts))\n",
    "\n",
    "raptor.head()"
   ]
  },
  {
   "cell_type": "markdown",
   "metadata": {},
   "source": [
    "We can see that running this apply method 50 times took less than 0.6 seconds.  This is quite fast on this data set and maybe not worth vectorizing at this point.  If it were a large dataset and/or a very complex function however, performance might be an issue.\n",
    "\n",
    "The NumPy vectorize method takes the name of a function that will be vectorized and a set of NumPy vectors that will be used as inputs to that function. Then it runs the function with all of the inputs, but because it is running in NumPy there are often significant performance advantages. In this case the process runs more than 10x faster than the simple apply method. "
   ]
  },
  {
   "cell_type": "code",
   "execution_count": null,
   "metadata": {},
   "outputs": [],
   "source": [
    "import numpy as np\n",
    "\n",
    "def calc_raptor_buffer(spec, stat):\n",
    "    if spec == 'Swainsons Hawk':\n",
    "        if stat == 'ACTIVE NEST':\n",
    "            return 500\n",
    "        else:\n",
    "            return 333\n",
    "    elif spec == 'Red-tail Hawk':\n",
    "        if stat == 'ACTIVE NEST':\n",
    "            return 800\n",
    "        else:\n",
    "            return 667\n",
    "    else:\n",
    "        return 500\n",
    "    \n",
    "ts = time.time()\n",
    "for i in range(50):  #Repeat 50 times to get a better time value\n",
    "    raptor['buffer_dist4']=np.vectorize(calc_raptor_buffer)(raptor['recentspec'], raptor['recentstat'])\n",
    "te = time.time()\n",
    "\n",
    "print(\"Elapsed time: {:5.5f}\".format(te-ts))\n",
    "\n",
    "raptor.head()"
   ]
  },
  {
   "cell_type": "code",
   "execution_count": null,
   "metadata": {},
   "outputs": [],
   "source": []
  }
 ],
 "metadata": {
  "kernelspec": {
   "display_name": "Python 3",
   "language": "python",
   "name": "python3"
  },
  "language_info": {
   "codemirror_mode": {
    "name": "ipython",
    "version": 3
   },
   "file_extension": ".py",
   "mimetype": "text/x-python",
   "name": "python",
   "nbconvert_exporter": "python",
   "pygments_lexer": "ipython3",
   "version": "3.7.3"
  }
 },
 "nbformat": 4,
 "nbformat_minor": 4
}
