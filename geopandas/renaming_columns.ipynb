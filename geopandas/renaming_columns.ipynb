{
 "cells": [
  {
   "cell_type": "markdown",
   "metadata": {},
   "source": [
    "# Renaming columns and indexes\n",
    "\n",
    "One of the things that is quite difficult to do in most desktop GIS software is renaming fields.  Fortunately that is something that is quite easy to do in GeoPandas.\n",
    "\n",
    "First lets load some data."
   ]
  },
  {
   "cell_type": "code",
   "execution_count": null,
   "metadata": {},
   "outputs": [],
   "source": [
    "%matplotlib inline\n",
    "import geopandas as gpd\n",
    "\n",
    "raptor = gpd.read_file(\"data/Raptor_Nests.shp\")\n",
    "raptor"
   ]
  },
  {
   "cell_type": "markdown",
   "metadata": {},
   "source": [
    "I've been working with a version this particular dataset in various projects for 8 years and the field names for the latitude and longitude columns have always bothered me.  Its not that it would have been impossible to change the names but this dataset had a lot of other custom software using it in the beginning Microsoft Access, then Visual Basic, then PostGIS, etc and I didn't want to potentially cause problems by changing field names.\n",
    "\n",
    "In GeoPandas however it is quite easy to change the column names and because everything is done in memory those changes won't be written to the original data but they will persist while you are using the dataframe in GeoPandas.\n",
    "\n",
    "So lets change the lat_y_dd and long_x_dd fields to latitude and longitude.  There are a number of ways to do this.  You can pass a list of new field names to the columns property of the raptors GeoDataFrame.  **NOTE:** with this method you need an element in the list for each column."
   ]
  },
  {
   "cell_type": "code",
   "execution_count": null,
   "metadata": {},
   "outputs": [],
   "source": [
    "raptor.columns=[\"gid\", \"latitude\", \"longitude\", \"lastsurvey\", \"recentspec\", \"recentstat\", \"nest_id\", \"geometry\"]"
   ]
  },
  {
   "cell_type": "code",
   "execution_count": null,
   "metadata": {},
   "outputs": [],
   "source": [
    "raptor.info()"
   ]
  },
  {
   "cell_type": "markdown",
   "metadata": {},
   "source": [
    "A more convenient way, especially with datasets that have a lot of columns is to use the dataframes rename method and pass a dictionary of individual column names that you want to change. The key value in the dictionary will be the current column name and the value will be the name that you want it to be renamed to.  Let's reload the raptor dataset first."
   ]
  },
  {
   "cell_type": "code",
   "execution_count": null,
   "metadata": {},
   "outputs": [],
   "source": [
    "raptor = gpd.read_file(\"data/Raptor_Nests.shp\")\n",
    "raptor"
   ]
  },
  {
   "cell_type": "code",
   "execution_count": null,
   "metadata": {},
   "outputs": [],
   "source": [
    "raptor.rename(columns={\"postgis_fi\":\"gid\", \"lat_y_dd\":\"latitude\", \"long_x_dd\":\"longitude\"})\n",
    "raptor.info()"
   ]
  },
  {
   "cell_type": "markdown",
   "metadata": {},
   "source": [
    "And nothing seemed to happen, why?  With this method we need to set the inplace parameter to True in order to persist the change to the GeoDataFrame beyond the immediate command."
   ]
  },
  {
   "cell_type": "code",
   "execution_count": null,
   "metadata": {},
   "outputs": [],
   "source": [
    "raptor.rename(inplace=True, columns={\"postgis_fi\":\"gid\", \"lat_y_dd\":\"latitude\", \"long_x_dd\":\"longitude\"})\n",
    "raptor.info()"
   ]
  },
  {
   "cell_type": "markdown",
   "metadata": {},
   "source": [
    "Other commands that will change column names are add_suffix and add_prefix. These will add a prefix or suffix to every column name.  This can be useful, as an example, before conducting a join with another GeoDataFrame that has similar column names to make it clear which GeoDataFrame the column refers too."
   ]
  },
  {
   "cell_type": "code",
   "execution_count": null,
   "metadata": {},
   "outputs": [],
   "source": [
    "raptor.add_suffix(\"_old\")"
   ]
  },
  {
   "cell_type": "markdown",
   "metadata": {},
   "source": [
    "# Renaming index labels\n",
    "\n",
    "Although much less common, it is also possible to update index labels using similar methods.  The GeoDataFrame has an index method which will allow the user to supply a list of index labels to replace the existing ones.  \n",
    "\n",
    "The rename method also can take a dictionary as the index parameter if you only want to rename a few specific index labels.\n",
    "\n",
    "There are no equivalents to add_prefix or add_suffix methods for index labels.\n",
    "\n",
    "There are also the set_index method which allows you to replace the existing index values with an existing column name.\n",
    "\n",
    "You can also look at the documentation for the pandas reindex method which has a lot of ways in which you can rebuild index values from scratch and fill in missing values, etc.\n"
   ]
  },
  {
   "cell_type": "code",
   "execution_count": null,
   "metadata": {},
   "outputs": [],
   "source": []
  }
 ],
 "metadata": {
  "kernelspec": {
   "display_name": "Python 3",
   "language": "python",
   "name": "python3"
  },
  "language_info": {
   "codemirror_mode": {
    "name": "ipython",
    "version": 3
   },
   "file_extension": ".py",
   "mimetype": "text/x-python",
   "name": "python",
   "nbconvert_exporter": "python",
   "pygments_lexer": "ipython3",
   "version": "3.7.3"
  }
 },
 "nbformat": 4,
 "nbformat_minor": 4
}
