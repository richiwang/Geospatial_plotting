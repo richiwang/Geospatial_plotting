{
 "cells": [
  {
   "cell_type": "markdown",
   "metadata": {},
   "source": [
    "# Concatenating data frames\n",
    "\n",
    "Concatenating data is a common GIS operations.  It just refers to the act of combining multiple data sources.  Usually these data sources have a common structure (i.e. the same attributes and geometry type).  An example might be if you are collecting data in the field using a mobile GPS device.  Every day the data that you collect is downloaded as a shapefile.  After a week you have 5 shapefiles with similar data and each of those must be combined into a masterfile that contains all of the data.\n",
    "\n",
    "Lets load the BUOWL data first."
   ]
  },
  {
   "cell_type": "code",
   "execution_count": null,
   "metadata": {},
   "outputs": [],
   "source": [
    "%matplotlib inline\n",
    "import geopandas as gpd\n",
    "\n",
    "buowl = gpd.read_file(\"data/BUOWL_Habitat.shp\")\n",
    "buowl.head()"
   ]
  },
  {
   "cell_type": "markdown",
   "metadata": {},
   "source": [
    "Now lets seperate this dataframe into two dataframes. One will contain the historically occupied buowl habitat and the other the undetermined buowl habitat."
   ]
  },
  {
   "cell_type": "code",
   "execution_count": null,
   "metadata": {},
   "outputs": [],
   "source": [
    "buowl_ho = buowl[buowl['hist_occup'] == 'Yes']\n",
    "buowl_ho.head()"
   ]
  },
  {
   "cell_type": "code",
   "execution_count": null,
   "metadata": {},
   "outputs": [],
   "source": [
    "buowl_und = buowl[buowl['hist_occup'] == 'Undetermined']\n",
    "buowl_und.head()"
   ]
  },
  {
   "cell_type": "code",
   "execution_count": null,
   "metadata": {},
   "outputs": [],
   "source": [
    "buowl_und.count()"
   ]
  },
  {
   "cell_type": "markdown",
   "metadata": {},
   "source": [
    "We know that these two dataframes have identical structures because we created them from the same dataframe.  In this case it is very easy to concatenate them back into a single dataframe using the pandas concat method.  The concat method can be fairly complex but in its easiest form we can just pass it a list of dataframes to concatenate"
   ]
  },
  {
   "cell_type": "code",
   "execution_count": null,
   "metadata": {},
   "outputs": [],
   "source": [
    "import pandas as pd\n",
    "\n",
    "buowl_all = pd.concat([buowl_ho, buowl_und])\n",
    "buowl_all.count()"
   ]
  },
  {
   "cell_type": "markdown",
   "metadata": {},
   "source": [
    "But what if the data structures are not identical?\n",
    "\n",
    "Lets read in a few data frames that were created as the intersections of environmental constraints and project buffers"
   ]
  },
  {
   "cell_type": "code",
   "execution_count": null,
   "metadata": {},
   "outputs": [],
   "source": [
    "raptor_buffer = gpd.read_file(\"data/intersections.gpkg\", layer = 'raptor_buffer')\n",
    "buowl_buffer = gpd.read_file(\"data/intersections.gpkg\", layer = 'buowl_buffer')"
   ]
  },
  {
   "cell_type": "code",
   "execution_count": null,
   "metadata": {},
   "outputs": [],
   "source": [
    "raptor_buffer.info()"
   ]
  },
  {
   "cell_type": "code",
   "execution_count": null,
   "metadata": {},
   "outputs": [],
   "source": [
    "buowl_buffer.info()"
   ]
  },
  {
   "cell_type": "markdown",
   "metadata": {},
   "source": [
    "Notice that in this case that some of the column names differ (although they hold similar type of information).  Lets do a quick simple merge and see what happens."
   ]
  },
  {
   "cell_type": "code",
   "execution_count": null,
   "metadata": {},
   "outputs": [],
   "source": [
    "ec = pd.concat([raptor_buffer, buowl_buffer])\n",
    "ec"
   ]
  },
  {
   "cell_type": "markdown",
   "metadata": {},
   "source": [
    "Notice that identical column names are combined automatically in the same column but there are now 2 new columns *habitat_id* and *hist_occup* that reflect the columns in buowl_buffer that are not found in raptor_buffer\n",
    "\n",
    "Now, we have a few issues to resolve.  One is that the buowl_buffer file has no species column because all of the buowl_habitat reflects a single species.  But if we are going to combine these results with the raptor_intersections then we should have a species column containing the text BUOWL so that we can differentiate them from the raptor nests.  This is easy enough to do."
   ]
  },
  {
   "cell_type": "code",
   "execution_count": null,
   "metadata": {},
   "outputs": [],
   "source": [
    "buowl_buffer['recentspec'] = 'BUOWL'\n",
    "buowl_buffer.head()"
   ]
  },
  {
   "cell_type": "markdown",
   "metadata": {},
   "source": [
    "We see that we now have a recentspec column containing the text BUOWL for all the buowl_buffer records.\n",
    "\n",
    "Another issue is that the buowl_buffer dataframe has column names *habitat_id* and *hist_occup* that contain similar types of information to the *Nest_ID* and *recentstat* columns in the raptor_buffer dataframe.  We want those columns to be combined when we concatenate so they have to have the same field names.\n",
    "\n",
    "I will have an entire lecture on various ways to rename columns but for now just know that we can simply assign a new list of column names to the columns property of the data frame.  This is probably the easiest although if you have a lot of column names, there are more efficient ways."
   ]
  },
  {
   "cell_type": "code",
   "execution_count": null,
   "metadata": {},
   "outputs": [],
   "source": [
    "buowl_buffer.columns = ['Nest_ID', 'recentstat', 'Project', 'type', 'length_m', 'area_ha', 'geometry', 'recentspec']\n",
    "buowl_buffer.head()"
   ]
  },
  {
   "cell_type": "markdown",
   "metadata": {},
   "source": [
    "Now that we have the same column names for both dataframes lets combine them again"
   ]
  },
  {
   "cell_type": "code",
   "execution_count": null,
   "metadata": {},
   "outputs": [],
   "source": [
    "ec = pd.concat([raptor_buffer, buowl_buffer])\n",
    "ec"
   ]
  },
  {
   "cell_type": "markdown",
   "metadata": {},
   "source": [
    "Notice that there are now no new columns and that the data line up properly, even though the columns are not in the same order.  The important thing is the column name.\n",
    "\n",
    "And now we can create data summaries that integrate both raptor nests and buowl habitat"
   ]
  },
  {
   "cell_type": "code",
   "execution_count": null,
   "metadata": {},
   "outputs": [],
   "source": [
    "pd.pivot_table(ec, index=['Project', 'recentspec', 'recentstat'], values='area_ha', aggfunc=['sum', 'count'])"
   ]
  },
  {
   "cell_type": "markdown",
   "metadata": {},
   "source": [
    "Pandas has a rich set of functionality for doing these kinds of data manipulations. As is sometimes the case with open source projects there may be several different ways to achieve the same result.  I chose the simplest method for concatenating data that I could and the one that is most similar to methods available in desktop GIS but the same result could be achieved in other ways.\n",
    "\n",
    "Take a look at the documentation for the concat method for more information on other ways it can be used."
   ]
  },
  {
   "cell_type": "code",
   "execution_count": null,
   "metadata": {},
   "outputs": [],
   "source": [
    "help(pd.concat)"
   ]
  },
  {
   "cell_type": "markdown",
   "metadata": {},
   "source": [
    "More information on this topic can be found in the [Pandas documentaion](https://pandas.pydata.org/pandas-docs/stable/user_guide/merging.html).  This page provides a good overview of the many methods that are available."
   ]
  }
 ],
 "metadata": {
  "kernelspec": {
   "display_name": "Python 3",
   "language": "python",
   "name": "python3"
  },
  "language_info": {
   "codemirror_mode": {
    "name": "ipython",
    "version": 3
   },
   "file_extension": ".py",
   "mimetype": "text/x-python",
   "name": "python",
   "nbconvert_exporter": "python",
   "pygments_lexer": "ipython3",
   "version": "3.7.3"
  }
 },
 "nbformat": 4,
 "nbformat_minor": 4
}
