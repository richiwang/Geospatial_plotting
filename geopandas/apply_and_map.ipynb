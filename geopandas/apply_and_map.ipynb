{
 "cells": [
  {
   "cell_type": "markdown",
   "metadata": {},
   "source": [
    "# The apply, map, and str.replace methods\n",
    "\n",
    "In python it is common to loop through a database table and perform an operation on each record individually.\n",
    "\n",
    "This is possible in GeoPandas as well. For instance we could use the loc or iloc method to loop through the rows and access each field value in that row and perform some operation on it.\n",
    "\n",
    "In Pandas and GeoPandas, however, it is far more common to work on the entire DataFrame at once rather than row by row.  To do this we have to apply a function to an entire series using the apply method."
   ]
  },
  {
   "cell_type": "code",
   "execution_count": null,
   "metadata": {},
   "outputs": [],
   "source": [
    "%matplotlib inline\n",
    "import geopandas as gpd\n",
    "\n",
    "buowl = gpd.read_file(\"data/BUOWL_Habitat.shp\")\n",
    "raptor = gpd.read_file(\"data/Raptor_Nests.shp\")\n",
    "linear = gpd.read_file(\"data/Linear_Projects.shp\")\n",
    "eagles = gpd.read_file(\"data/BAEA_Nests.shp\")"
   ]
  },
  {
   "cell_type": "markdown",
   "metadata": {},
   "source": [
    "Let's say that we want to create a new field that contains the length(number of characters) of the recentstat field.  If we were new to Panda's we might try something like."
   ]
  },
  {
   "cell_type": "code",
   "execution_count": null,
   "metadata": {},
   "outputs": [],
   "source": [
    "raptor['stat_len'] = len(raptor['recentstat'])\n",
    "raptor.head()"
   ]
  },
  {
   "cell_type": "markdown",
   "metadata": {},
   "source": [
    "This clearly didn't work.  The length of a series is the number of rows in the DataFrame (879) not the number of characters for each row.  Our next step might be to loop through each row and assign the len of the recentstat field for every row. This is how we would typically do things in Python."
   ]
  },
  {
   "cell_type": "code",
   "execution_count": null,
   "metadata": {},
   "outputs": [],
   "source": [
    "import time\n",
    "ts = time.time()\n",
    "for idx in raptor.index:\n",
    "    raptor.at[idx, 'stat_len'] = len(raptor.at[idx, 'recentstat'])\n",
    "te = time.time()\n",
    "\n",
    "method1 = te-ts\n",
    "print(\"Total Time: {:10.5f}\".format(method1))\n",
    "raptor"
   ]
  },
  {
   "cell_type": "markdown",
   "metadata": {},
   "source": [
    "This works but it is a brute force way and probably should never be done.  A better way is to use the apply method as follows"
   ]
  },
  {
   "cell_type": "code",
   "execution_count": null,
   "metadata": {},
   "outputs": [],
   "source": [
    "ts = time.time()\n",
    "raptor['stat_len']=raptor['recentstat'].apply(len)\n",
    "te = time.time()\n",
    "method2 = te-ts\n",
    "print(\"Total Time: {:10.5f}\".format(method2))\n",
    "print(method1/method2)\n",
    "raptor.tail()"
   ]
  },
  {
   "cell_type": "markdown",
   "metadata": {},
   "source": [
    "Wow, notice that is almost 20x faster.  It may not make a big difference in this case with a simple function on a small database but if it was a more complex function on a larger database it could make a significant difference.  Think 1 minute vs 20 minutes or 1 hour vs. 20 hours.\n",
    "\n",
    "Another option would be to apply a lambda function. Lambda's in python are simple unnamed functions that take an input and return a value in one line of code."
   ]
  },
  {
   "cell_type": "code",
   "execution_count": null,
   "metadata": {},
   "outputs": [],
   "source": [
    "ts = time.time()\n",
    "raptor['stat_len']=raptor['recentstat'].apply(lambda x: int(len(x)/2))\n",
    "te = time.time()\n",
    "method3 = te-ts\n",
    "print(\"Total Time: {:10.5f}\".format(method3))\n",
    "print(method1/method3)\n",
    "raptor.tail()"
   ]
  },
  {
   "cell_type": "markdown",
   "metadata": {},
   "source": [
    "This also works and is alot faster than the brute force method but not quite as fast as directly applying the len function\n",
    "\n",
    "Still another method would be to write our own custom function.  This is overkill in this case as the len function already exists but as we'll see in a bit in other cases it may be our only option.  The advantage of this method in more complex cases is that we can include as many lines of code as we need."
   ]
  },
  {
   "cell_type": "code",
   "execution_count": null,
   "metadata": {},
   "outputs": [],
   "source": [
    "def return_len(s):\n",
    "    return len(s)\n",
    "\n",
    "ts = time.time()\n",
    "raptor['stat_len']=raptor['recentstat'].apply(return_len)\n",
    "te = time.time()\n",
    "method3 = te-ts\n",
    "print(\"Total Time: {:10.5f}\".format(method3))\n",
    "print(method1/method3)"
   ]
  },
  {
   "cell_type": "markdown",
   "metadata": {},
   "source": [
    "Now lets think about the reason I interrupted this series on spatial function to discuss the apply method in the first place.  We want to create buffers for the raptor points, but the buffers will vary according to the species.  For Swainsons Hawks the buffer distance will be 333 meters and for everything else the buffer distance will be 667 meters.\n",
    "\n",
    "First we need to convert the raptors GeoDataFrame to UTM coordinates so we can work with meters as the units."
   ]
  },
  {
   "cell_type": "code",
   "execution_count": null,
   "metadata": {},
   "outputs": [],
   "source": [
    "raptor.to_crs(epsg=26913, inplace=True)\n",
    "raptor.head()"
   ]
  },
  {
   "cell_type": "markdown",
   "metadata": {},
   "source": [
    "Next we want to create a new column called buf_dist that will hold the distance we will buffer the point by.  Since there isn't a pre-existing function to do this we will have to write our own custom function. We could use a Lambda function with a ternary operator that allows us to write a simple if-then statement in a single line."
   ]
  },
  {
   "cell_type": "code",
   "execution_count": null,
   "metadata": {
    "scrolled": true
   },
   "outputs": [],
   "source": [
    "ts = time.time()\n",
    "raptor['buf_dist'] = raptor['recentspec'].apply(lambda s: 333 if s=='Swainsons Hawk' else 667)\n",
    "te = time.time()\n",
    "print(\"Total Time: {:10.5f}\".format(method3))\n",
    "raptor"
   ]
  },
  {
   "cell_type": "markdown",
   "metadata": {},
   "source": [
    "That works but I think it is a bit confusing and also it is limited to a single condition.  We can write our own custom function and apply it and we can use it to evaluate as many conditions as we want."
   ]
  },
  {
   "cell_type": "code",
   "execution_count": null,
   "metadata": {},
   "outputs": [],
   "source": [
    "def calc_raptor_buffer(spec):\n",
    "    if spec=='Swainsons Hawk':\n",
    "        return 333\n",
    "    elif spec=='Northern Harrier':\n",
    "        return 500\n",
    "    else:\n",
    "        return 667\n",
    "    \n",
    "ts = time.time()\n",
    "raptor['buf_dist'] = raptor['recentspec'].apply(calc_raptor_buffer)\n",
    "te = time.time()\n",
    "print(\"Total Time: {:10.5f}\".format(method3))\n",
    "raptor"
   ]
  },
  {
   "cell_type": "markdown",
   "metadata": {},
   "source": [
    "This also works, it is more flexible. its easier to understand, and it runs just as fast so its a win, win, win.\n",
    "\n",
    "There is another method that can be used in these situations where we are \"coding\" a new column based on values in another column. The map function takes a dictionary as a parameter and returns the value when a key match is found.\n",
    "\n",
    "First lets create the dictionary"
   ]
  },
  {
   "cell_type": "code",
   "execution_count": null,
   "metadata": {},
   "outputs": [],
   "source": [
    "species_buffer = {\"Swainsons Hawk\":333, \"Red-tail Hawk\":667, \"Northern Harrier\":500}"
   ]
  },
  {
   "cell_type": "markdown",
   "metadata": {},
   "source": [
    "Now lets use it to map a buffer distance value to the proper species"
   ]
  },
  {
   "cell_type": "code",
   "execution_count": null,
   "metadata": {},
   "outputs": [],
   "source": [
    "ts = time.time()\n",
    "raptor['buf_dist2']=raptor['recentspec'].map(species_buffer)\n",
    "te = time.time()\n",
    "print(\"Total Time: {:10.5f}\".format(method3))\n",
    "raptor"
   ]
  },
  {
   "cell_type": "markdown",
   "metadata": {},
   "source": [
    "Notice however that the last two values are NaN because they didn't match any key in the dictionary.  We can set a default value using a default dictionary.  These are a special type of dictionary that include a lambda function as the first element in the dictionary that returns a value when no key match is made.\n",
    "\n",
    "To create a defaultdictionary we have to import the defaultdict class from the collections package.  Our lambda function will take no parameter because it will always just return the same value. In this case 1000"
   ]
  },
  {
   "cell_type": "code",
   "execution_count": null,
   "metadata": {},
   "outputs": [],
   "source": [
    "from collections import defaultdict\n",
    "\n",
    "species_buffer = defaultdict(lambda: 1000, {'Swainsons Hawk': 333, 'Red-tail Hawk': 667, 'Northern Harrier': 500})"
   ]
  },
  {
   "cell_type": "code",
   "execution_count": null,
   "metadata": {},
   "outputs": [],
   "source": [
    "ts = time.time()\n",
    "raptor['buf_dist']=raptor['recentspec'].map(species_buffer)\n",
    "te = time.time()\n",
    "print(\"Total Time: {:10.5f}\".format(method3))\n",
    "raptor"
   ]
  },
  {
   "cell_type": "markdown",
   "metadata": {},
   "source": [
    "Now notice that the SWHA and RTHA have a buffer distance of 1000.\n",
    "\n",
    "Really though, we don't want SWHA and RTHA in the recentspec column. They were just entered by mistake by lazy people who didn't want to type out the full name and should be fixed.  First lets make sure that these are the only unwanted values using the unique method."
   ]
  },
  {
   "cell_type": "code",
   "execution_count": null,
   "metadata": {},
   "outputs": [],
   "source": [
    "raptor['recentspec'].unique()"
   ]
  },
  {
   "cell_type": "markdown",
   "metadata": {},
   "source": [
    "It looks like that is the case.  We can use the str.replace method to change them to their proper values"
   ]
  },
  {
   "cell_type": "code",
   "execution_count": null,
   "metadata": {},
   "outputs": [],
   "source": [
    "ts = time.time()\n",
    "raptor['recentspec'].str.replace('SWHA', 'Swainsons Hawk')\n",
    "raptor['recentspec'].str.replace('RTHA', 'Red-tail Hawk')\n",
    "te = time.time()\n",
    "print(\"Total Time: {:10.5f}\".format(method3))\n",
    "raptor.tail()"
   ]
  },
  {
   "cell_type": "markdown",
   "metadata": {},
   "source": [
    "Great except that our values haven't changed.  Well remember that in pandas most things are not really permanent unless you set the inplace parameter to true.  Except that replace has no inplace parameter.\n",
    "\n",
    "But we can still make it permanent by assigning the result of the replace method to the original column."
   ]
  },
  {
   "cell_type": "code",
   "execution_count": null,
   "metadata": {},
   "outputs": [],
   "source": [
    "ts = time.time()\n",
    "raptor['recentspec'] = raptor['recentspec'].str.replace('SWHA', 'Swainsons Hawk')\n",
    "raptor['recentspec'] = raptor['recentspec'].str.replace('RTHA', 'Red-tail Hawk')\n",
    "te = time.time()\n",
    "print(\"Total Time: {:10.5f}\".format(method3))\n",
    "raptor.tail()"
   ]
  },
  {
   "cell_type": "code",
   "execution_count": null,
   "metadata": {},
   "outputs": [],
   "source": [
    "ts = time.time()\n",
    "raptor['buf_dist']=raptor['recentspec'].map(species_buffer)\n",
    "te = time.time()\n",
    "print(\"Total Time: {:10.5f}\".format(method3))\n",
    "raptor"
   ]
  },
  {
   "cell_type": "markdown",
   "metadata": {},
   "source": [
    "Although the pandas apply method is very fast, there are further performance gains that can be achieved. If you are working with large datasets and need improved performance you can look into vectorizing pandas functions. This blog post on [optinmizing pandas code for speed](https://engineering.upside.com/a-beginners-guide-to-optimizing-pandas-code-for-speed-c09ef2c6a4d6) provides a very good place to start."
   ]
  }
 ],
 "metadata": {
  "kernelspec": {
   "display_name": "Python 3",
   "language": "python",
   "name": "python3"
  },
  "language_info": {
   "codemirror_mode": {
    "name": "ipython",
    "version": 3
   },
   "file_extension": ".py",
   "mimetype": "text/x-python",
   "name": "python",
   "nbconvert_exporter": "python",
   "pygments_lexer": "ipython3",
   "version": "3.7.3"
  }
 },
 "nbformat": 4,
 "nbformat_minor": 4
}
