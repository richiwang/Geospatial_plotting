{
 "cells": [
  {
   "cell_type": "markdown",
   "metadata": {},
   "source": [
    "# Reading tabular data\n",
    "\n",
    "Tabular data can be read into a Pandas data frame in a number of ways.\n",
    "\n",
    "* Read from a csv file\n",
    "* Read from an excel spreadsheet\n",
    "* Read from a SQL database\n",
    "* Read just the tabular part of a spatial file by setting ignore_geometry parameter to True\n",
    "* Read tables from a website\n",
    "* Many other formats\n",
    "\n",
    "Lets begin as usual with the matplotlib inline directive, importing GeoPandas, and also importing pandas"
   ]
  },
  {
   "cell_type": "code",
   "execution_count": null,
   "metadata": {},
   "outputs": [],
   "source": [
    "%matplotlib inline\n",
    "import geopandas as gpd\n",
    "import pandas as pd"
   ]
  },
  {
   "cell_type": "markdown",
   "metadata": {},
   "source": [
    "Now lets read a csv file using the pandas read_csv method"
   ]
  },
  {
   "cell_type": "code",
   "execution_count": null,
   "metadata": {},
   "outputs": [],
   "source": [
    "BAEA_sources = pd.read_csv(\"data/BAEA_sources.csv\")"
   ]
  },
  {
   "cell_type": "code",
   "execution_count": null,
   "metadata": {},
   "outputs": [],
   "source": [
    "BAEA_sources"
   ]
  },
  {
   "cell_type": "markdown",
   "metadata": {},
   "source": [
    "Lets try another"
   ]
  },
  {
   "cell_type": "code",
   "execution_count": null,
   "metadata": {},
   "outputs": [],
   "source": [
    "BAEA_surveys = pd.read_csv(\"data/BAEA_surveys.csv\")"
   ]
  },
  {
   "cell_type": "markdown",
   "metadata": {},
   "source": [
    "We can display the data frame in sorted order by calling the sort_values method"
   ]
  },
  {
   "cell_type": "code",
   "execution_count": null,
   "metadata": {},
   "outputs": [],
   "source": [
    "BAEA_surveys.sort_values(\"nest\")"
   ]
  },
  {
   "cell_type": "markdown",
   "metadata": {},
   "source": [
    "We can also select just a subset very easily"
   ]
  },
  {
   "cell_type": "code",
   "execution_count": null,
   "metadata": {},
   "outputs": [],
   "source": [
    "BAEA_surveys[BAEA_surveys[\"nest\"]==14]"
   ]
  },
  {
   "cell_type": "markdown",
   "metadata": {},
   "source": [
    "And we can use this notation anywhere we can use a pandas data frame"
   ]
  },
  {
   "cell_type": "code",
   "execution_count": null,
   "metadata": {},
   "outputs": [],
   "source": [
    "BAEA_surveys = pd.read_csv(\"data/BAEA_surveys.csv\", parse_dates=[\"date\"])"
   ]
  },
  {
   "cell_type": "code",
   "execution_count": null,
   "metadata": {},
   "outputs": [],
   "source": [
    "BAEA_surveys.info()"
   ]
  },
  {
   "cell_type": "markdown",
   "metadata": {},
   "source": [
    "## Read from excel file\n",
    "\n",
    "Not terribly different from read_csv but you can specify a sheet by name\n",
    "\n",
    "This method does require that the python xlrd module is present in your environment\n",
    "\n",
    "This method also only reads xls files, not the xlsx file type which has been the norm in excel since 2004. But it is relatively trivial to save an excel file in xls format. "
   ]
  },
  {
   "cell_type": "code",
   "execution_count": null,
   "metadata": {},
   "outputs": [],
   "source": [
    "!pip install xlrd"
   ]
  },
  {
   "cell_type": "code",
   "execution_count": null,
   "metadata": {},
   "outputs": [],
   "source": [
    "albatross = pd.read_excel(\"data/wildlife_sightings.xls\", sheet_name=\"albatross\")"
   ]
  },
  {
   "cell_type": "code",
   "execution_count": null,
   "metadata": {},
   "outputs": [],
   "source": [
    "albatross"
   ]
  },
  {
   "cell_type": "code",
   "execution_count": null,
   "metadata": {},
   "outputs": [],
   "source": [
    "albatross.plot()"
   ]
  },
  {
   "cell_type": "markdown",
   "metadata": {},
   "source": [
    "# Converting non-spatial data to spatial data\n",
    "\n",
    "You can convert a pandas data frame that has columns for longitude and latitude into a spatial GeoPandas data frame by calling GeoPandas points_from_xy method as below."
   ]
  },
  {
   "cell_type": "code",
   "execution_count": null,
   "metadata": {},
   "outputs": [],
   "source": [
    "albatross_spatial = gpd.GeoDataFrame(\n",
    "    albatross, geometry=gpd.points_from_xy(albatross[\"longitude\"], albatross[\"latitude\"]))"
   ]
  },
  {
   "cell_type": "code",
   "execution_count": null,
   "metadata": {},
   "outputs": [],
   "source": [
    "albatross_spatial"
   ]
  },
  {
   "cell_type": "markdown",
   "metadata": {},
   "source": [
    "If you have a pandas data frame with geometry in wkt format, you can also convert that to a geopandas data frame.  Instructions can be found in the [GeoPandas documentation](https://geopandas.org/gallery/create_geopandas_from_pandas.html)"
   ]
  },
  {
   "cell_type": "markdown",
   "metadata": {},
   "source": [
    "## Reading tabular data from an HTML page\n",
    "\n",
    "Pandas can also read an HTML table from a website into a pandas data frame which can be incredibly useful.\n",
    "\n",
    "Before using this you need to install a few libraries.\n",
    "\n",
    "We can actually do this from within jupyter notebooks"
   ]
  },
  {
   "cell_type": "code",
   "execution_count": null,
   "metadata": {},
   "outputs": [],
   "source": [
    "!pip install lxml html5lib BeautifulSoup4"
   ]
  },
  {
   "cell_type": "markdown",
   "metadata": {},
   "source": [
    "Once this is done there are a few more lines of code that are necessary to allow you to read tables from web pages over secure (https) connections."
   ]
  },
  {
   "cell_type": "code",
   "execution_count": null,
   "metadata": {},
   "outputs": [],
   "source": [
    "import ssl\n",
    "\n",
    "ssl._create_default_https_context = ssl._create_unverified_context"
   ]
  },
  {
   "cell_type": "markdown",
   "metadata": {},
   "source": [
    "Once this is done you simply need to provide a web page.\n",
    "\n",
    "**NOTE:** The return value is a python list of pandas dataframes.  One dataframe for each table in the specified web page."
   ]
  },
  {
   "cell_type": "code",
   "execution_count": null,
   "metadata": {},
   "outputs": [],
   "source": [
    "gdp_list = pd.read_html(\"https://en.wikipedia.org/wiki/List_of_countries_by_GDP_(PPP)_per_capita\")"
   ]
  },
  {
   "cell_type": "code",
   "execution_count": null,
   "metadata": {},
   "outputs": [],
   "source": [
    "gdp_list[4]"
   ]
  },
  {
   "cell_type": "markdown",
   "metadata": {},
   "source": [
    "Also note that this will not work on all web pages. In my experience web pages that generate tables dynamically rather than static web pages are especially problematic."
   ]
  },
  {
   "cell_type": "markdown",
   "metadata": {},
   "source": [
    "# Many other formats"
   ]
  },
  {
   "cell_type": "code",
   "execution_count": null,
   "metadata": {},
   "outputs": [],
   "source": [
    "pd.read_"
   ]
  },
  {
   "cell_type": "code",
   "execution_count": null,
   "metadata": {},
   "outputs": [],
   "source": [
    "help(pd.read_html)"
   ]
  },
  {
   "cell_type": "code",
   "execution_count": null,
   "metadata": {},
   "outputs": [],
   "source": []
  }
 ],
 "metadata": {
  "kernelspec": {
   "display_name": "Python 3",
   "language": "python",
   "name": "python3"
  },
  "language_info": {
   "codemirror_mode": {
    "name": "ipython",
    "version": 3
   },
   "file_extension": ".py",
   "mimetype": "text/x-python",
   "name": "python",
   "nbconvert_exporter": "python",
   "pygments_lexer": "ipython3",
   "version": "3.7.3"
  }
 },
 "nbformat": 4,
 "nbformat_minor": 4
}
