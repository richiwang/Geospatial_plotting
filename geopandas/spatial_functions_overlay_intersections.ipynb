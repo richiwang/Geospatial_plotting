{
 "cells": [
  {
   "cell_type": "markdown",
   "metadata": {},
   "source": [
    "# Spatial Functions - overlay operations\n",
    "\n",
    "## Preparing the data\n",
    "\n",
    "First we need to load all the data clean it up and create buffers.  There is nothing that we haven't seen in this code block. We are just accumulating it all in one place."
   ]
  },
  {
   "cell_type": "code",
   "execution_count": null,
   "metadata": {},
   "outputs": [],
   "source": [
    "%matplotlib inline\n",
    "import geopandas as gpd\n",
    "\n",
    "# Read in all the raw data\n",
    "buowl = gpd.read_file(\"data/BUOWL_Habitat.shp\")\n",
    "raptor = gpd.read_file(\"data/Raptor_Nests.shp\")\n",
    "linear = gpd.read_file(\"data/Linear_Projects.shp\")\n",
    "eagle = gpd.read_file(\"data/BAEA_Nests.shp\")\n",
    "counties = gpd.read_file(\"data/colorado_counties.shp\", mask=eagle)\n",
    "\n",
    "# Clean raptor data - get a subset that excludes 3 outlier points\n",
    "raptor = raptor.cx[:-104.3, 39.5:40.6]\n",
    "\n",
    "# Convert raw data to UTM NAD83/Zone 13 CRS (EPSG:26913)\n",
    "buowl.to_crs(epsg=26913, inplace=True)\n",
    "raptor.to_crs(epsg=26913, inplace=True)\n",
    "linear.to_crs(epsg=26913, inplace=True)\n",
    "eagle.to_crs(epsg=26913, inplace=True)\n",
    "counties.to_crs(epsg=26913, inplace=True)\n",
    "\n",
    "# Clean raptor data - relace coded field values\n",
    "raptor['recentspec'] = raptor['recentspec'].str.replace('SWHA', 'Swainsons Hawk')\n",
    "raptor['recentspec'] = raptor['recentspec'].str.replace('RTHA', 'Red-tail Hawk')\n",
    "print(\"recentspec values = {}\".format(raptor['recentspec'].unique()))\n",
    "\n",
    "# add buff_dist field to raptors GeoDataFrame\n",
    "species_buffer = {\"Swainsons Hawk\":333, \"Red-tail Hawk\":667, \"Northern Harrier\":500}\n",
    "raptor['buf_dist']=raptor['recentspec'].map(species_buffer)\n",
    "\n",
    "# add length field to linears GeoDataFrame\n",
    "linear['length_m'] = linear['geometry'].length\n",
    "\n",
    "# Create buffers\n",
    "eagle['buffer'] = eagle['geometry'].buffer(804.5)\n",
    "buowl['buffer'] = buowl['geometry'].buffer(300)\n",
    "linear['buffer'] = linear['geometry'].buffer(linear['row_width'])\n",
    "raptor['buffer'] = raptor['geometry'].buffer(raptor['buf_dist'])\n",
    "                                 \n",
    "eagle.set_geometry('buffer', inplace=True)\n",
    "buowl.set_geometry('buffer', inplace=True)\n",
    "linear.set_geometry('buffer', inplace=True)\n",
    "raptor.set_geometry('buffer', inplace=True)"
   ]
  },
  {
   "cell_type": "code",
   "execution_count": null,
   "metadata": {},
   "outputs": [],
   "source": [
    "raptor"
   ]
  },
  {
   "cell_type": "markdown",
   "metadata": {},
   "source": [
    "## Simple plotting of more than 1 GeoDataFrame\n",
    "\n",
    "So far in this course we have done some simple plotting but only of a single GeoDataFrame.  Here we will expand this to include maps with more than one GeoDataFrame.\n",
    "\n",
    "As a result we will also be more specific about which colors we will use.\n",
    "\n",
    "The key is that calling the plot function has a return value and we can use that return value to use as the basemap in the next call to the plot method using the ax parameter\n"
   ]
  },
  {
   "cell_type": "code",
   "execution_count": null,
   "metadata": {},
   "outputs": [],
   "source": [
    "basemap = eagle.cx[490000:520000, 4430000:4460000].plot(color='darkgreen', alpha = 0.5, figsize=(15, 15))\n",
    "basemap = raptor.cx[490000:520000, 4430000:4460000].plot(ax=basemap, color='darkblue', alpha = 0.5)\n",
    "basemap = buowl.cx[490000:520000, 4430000:4460000].plot(ax=basemap, color='orangered', alpha = 0.5)\n",
    "basemap = linear.cx[490000:520000, 4430000:4460000].plot(ax=basemap, cmap='tab10', column='type', legend=True)"
   ]
  },
  {
   "cell_type": "code",
   "execution_count": null,
   "metadata": {},
   "outputs": [],
   "source": [
    "linear.cx[490000:520000, 4430000:4460000].sort_values('length_m', ascending=False).head()"
   ]
  },
  {
   "cell_type": "code",
   "execution_count": null,
   "metadata": {},
   "outputs": [],
   "source": [
    "basemap = eagle.cx[505000:520000, 4440000:4455000].plot(color='darkgreen', alpha = 0.5, figsize=(15, 15))\n",
    "basemap = raptor.cx[505000:520000, 4440000:4455000].plot(ax=basemap, color='darkblue', alpha = 0.5)\n",
    "basemap = buowl.cx[505000:520000, 4440000:4455000].plot(ax=basemap, color='orangered', alpha = 0.5)\n",
    "basemap = linear[linear['Project']==296].plot(ax=basemap, color='red')"
   ]
  },
  {
   "cell_type": "markdown",
   "metadata": {},
   "source": [
    "## Different uses of intersection\n",
    "\n",
    "### intersects - spatial predicate\n",
    "\n",
    "Spatial predicates return true or false depending if the relationship is true.\n",
    "\n",
    "The following code cell returns the raptor nests whose buffers intersect the row for linear project 296."
   ]
  },
  {
   "cell_type": "code",
   "execution_count": null,
   "metadata": {},
   "outputs": [],
   "source": [
    "linear_296 = linear[linear['Project']==296].unary_union\n",
    "impacted_raptors = raptor[raptor['buffer'].intersects(linear_296)]\n",
    "impacted_raptors"
   ]
  },
  {
   "cell_type": "code",
   "execution_count": null,
   "metadata": {},
   "outputs": [],
   "source": [
    "linear_296"
   ]
  },
  {
   "cell_type": "markdown",
   "metadata": {},
   "source": [
    "### intersection - spatial operation\n",
    "\n",
    "Returns the intersection of two geometries as a geometry.\n"
   ]
  },
  {
   "cell_type": "code",
   "execution_count": null,
   "metadata": {},
   "outputs": [],
   "source": [
    "impacted_raptors = impacted_raptors.copy()\n",
    "impacted_raptors['impacted_poly']=impacted_raptors['buffer'].intersection(linear_296)\n",
    "impacted_raptors['impacted_area']=impacted_raptors['impacted_poly'].area/10000\n",
    "impacted_raptors"
   ]
  },
  {
   "cell_type": "code",
   "execution_count": null,
   "metadata": {},
   "outputs": [],
   "source": [
    "basemap = eagle.cx[505000:520000, 4440000:4455000].plot(color='darkgreen', alpha = 0.5, figsize=(15, 15))\n",
    "basemap = raptor.cx[505000:520000, 4440000:4455000].plot(ax=basemap, color='darkblue', alpha = 0.5)\n",
    "basemap = buowl.cx[505000:520000, 4440000:4455000].plot(ax=basemap, color='orangered', alpha = 0.5)\n",
    "basemap = impacted_raptors.set_geometry('impacted_poly').plot(ax=basemap, color='red', edgecolor='k')"
   ]
  },
  {
   "cell_type": "code",
   "execution_count": null,
   "metadata": {},
   "outputs": [],
   "source": [
    "impacted_raptors[impacted_raptors['recentstat']=='ACTIVE NEST']['impacted_area'].max()"
   ]
  },
  {
   "cell_type": "markdown",
   "metadata": {},
   "source": [
    "### Overlay method with how='intersection'\n",
    "\n",
    "This is the traditional intersection operation from desktop GIS. It creates an entirely new dataset with a new feature for every combination of raptor buffer and linear buffer.  Each feature will have ALL the fields from both layers."
   ]
  },
  {
   "cell_type": "code",
   "execution_count": null,
   "metadata": {},
   "outputs": [],
   "source": [
    "raptor_intersection = gpd.overlay(raptor, linear, how='intersection')\n",
    "raptor_intersection['area_ha'] = raptor_intersection['geometry'].area/10000\n",
    "raptor_intersection"
   ]
  },
  {
   "cell_type": "code",
   "execution_count": null,
   "metadata": {},
   "outputs": [],
   "source": [
    "raptor = raptor[['Nest_ID', 'recentstat', 'recentspec', 'buffer']]\n",
    "raptor"
   ]
  },
  {
   "cell_type": "code",
   "execution_count": null,
   "metadata": {},
   "outputs": [],
   "source": [
    "linear = linear[['Project', 'type', 'length_m', 'buffer']]\n",
    "linear"
   ]
  },
  {
   "cell_type": "code",
   "execution_count": null,
   "metadata": {},
   "outputs": [],
   "source": [
    "raptor_intersection = gpd.overlay(raptor, linear, how='intersection')\n",
    "raptor_intersection['area_ha'] = raptor_intersection['geometry'].area/10000\n",
    "raptor_intersection"
   ]
  },
  {
   "cell_type": "code",
   "execution_count": null,
   "metadata": {
    "scrolled": true
   },
   "outputs": [],
   "source": [
    "basemap = eagle.cx[505000:520000, 4440000:4455000].plot(color='darkgreen', alpha = 0.5, figsize=(15, 15))\n",
    "basemap = raptor.cx[505000:520000, 4440000:4455000].plot(ax=basemap, color='darkblue', alpha = 0.5)\n",
    "basemap = buowl.cx[505000:520000, 4440000:4455000].plot(ax=basemap, color='orangered', alpha = 0.5)\n",
    "basemap = linear.cx[505000:520000, 4440000:4455000].plot(ax=basemap, color='yellow', alpha = 0.5, edgecolor='grey')\n",
    "basemap = raptor_intersection.cx[505000:520000, 4440000:4455000].plot(ax=basemap, color='red', edgecolor='k')"
   ]
  },
  {
   "cell_type": "markdown",
   "metadata": {},
   "source": [
    "### Intersections with different geometry types\n",
    "\n",
    "Although intersections are generally thought of as relationships between two polygon geometries, they can also occur between geometries of different dimensions.  \n",
    "\n",
    "In this case the order in which the GeoDataFrames are used on the overlay function is important.  The output geometry type will be the same as the first GeoDataFrame in the overlay function.\n",
    "\n",
    "Consider if we want to perform an intersection with the raptor nest buffers and the linear features.  Not the buffers of the linear features that would return a row polygon and allow you to calculate how many hectares of the row was impacted by each raptor nest but rather an intersection of the raptor nest buffers and the actual lines.  This would allow you to answer questions such as how many meters of a pipeline are impacted.\n",
    "\n",
    "We've already overwritten the raptor and linear geodataframes to include just a few select fields and the buffer geometry so we no longer have the actual linear geometry in the linear GeoDataFrame.  Lets run the first codecell in this notebook again to start from scratch."
   ]
  },
  {
   "cell_type": "code",
   "execution_count": null,
   "metadata": {},
   "outputs": [],
   "source": [
    "linear"
   ]
  },
  {
   "cell_type": "markdown",
   "metadata": {},
   "source": [
    "Now lets run the code we ran above to generate an intersection but we will use the original linear geometry of the linear GeoDataFrame.\n",
    "\n",
    "First lets select just the important columns from each GeoDataFrame"
   ]
  },
  {
   "cell_type": "code",
   "execution_count": null,
   "metadata": {},
   "outputs": [],
   "source": [
    "raptor = raptor[['Nest_ID', 'recentstat', 'recentspec', 'buffer']]\n",
    "raptor"
   ]
  },
  {
   "cell_type": "code",
   "execution_count": null,
   "metadata": {},
   "outputs": [],
   "source": [
    "linear = linear[['Project', 'type', 'length_m', 'geometry']]\n",
    "linear"
   ]
  },
  {
   "cell_type": "markdown",
   "metadata": {},
   "source": [
    "This looks good but there is a problem.  Even though the linear GeoDataFrame has a GeoSeries it comes across as a pandas dataframe rather than a GeoPandas GeoDataFrame.  This caused a problem that I didn't see until I actually tried to do the intersection."
   ]
  },
  {
   "cell_type": "code",
   "execution_count": null,
   "metadata": {},
   "outputs": [],
   "source": [
    "linear.info()"
   ]
  },
  {
   "cell_type": "markdown",
   "metadata": {},
   "source": [
    "Fortunately it is quite easy to convert a Pandas dataframe to a GeoPanda's GeoDataFrame.  You just pass it to the GeoDataFrame constrctor method. SInce it already has a GeoSeries we don't need to do anything else."
   ]
  },
  {
   "cell_type": "code",
   "execution_count": null,
   "metadata": {},
   "outputs": [],
   "source": [
    "linear = gpd.GeoDataFrame(linear)\n",
    "linear.info()"
   ]
  },
  {
   "cell_type": "code",
   "execution_count": null,
   "metadata": {},
   "outputs": [],
   "source": [
    "linear.cx[:,4400000:4480000].plot(figsize=(10,10))"
   ]
  },
  {
   "cell_type": "code",
   "execution_count": null,
   "metadata": {},
   "outputs": [],
   "source": [
    "raptor_intersection_linear = gpd.overlay(linear, raptor, how='intersection')\n",
    "raptor_intersection_linear['length_intersection'] = raptor_intersection_linear['geometry'].length\n",
    "raptor_intersection_linear.sort_values('Project')"
   ]
  },
  {
   "cell_type": "code",
   "execution_count": null,
   "metadata": {},
   "outputs": [],
   "source": [
    "basemap = eagle.cx[505000:520000, 4440000:4455000].plot(color='darkgreen', alpha = 0.5, figsize=(15, 15))\n",
    "basemap = raptor.cx[505000:520000, 4440000:4455000].plot(ax=basemap, color='darkblue', alpha = 0.5)\n",
    "basemap = buowl.cx[505000:520000, 4440000:4455000].plot(ax=basemap, color='orangered', alpha = 0.5)\n",
    "basemap = linear.cx[505000:520000, 4440000:4455000].plot(ax=basemap, color='green', alpha = 0.5, edgecolor='grey')\n",
    "basemap = raptor_intersection_linear.cx[505000:520000, 4440000:4455000].plot(ax=basemap, color='red', edgecolor='k')"
   ]
  },
  {
   "cell_type": "code",
   "execution_count": null,
   "metadata": {},
   "outputs": [],
   "source": [
    "raptor_intersection.to_file('data/intersections.gpkg', layer='raptor_buffer', driver='GPKG')\n",
    "raptor_intersection_linear.to_file('data/intersections.gpkg', layer='raptor_linear', driver='GPKG')"
   ]
  },
  {
   "cell_type": "code",
   "execution_count": null,
   "metadata": {},
   "outputs": [],
   "source": [
    "import fiona\n",
    "fiona.listlayers('data/intersections.gpkg')"
   ]
  },
  {
   "cell_type": "code",
   "execution_count": null,
   "metadata": {},
   "outputs": [],
   "source": []
  }
 ],
 "metadata": {
  "kernelspec": {
   "display_name": "Python 3",
   "language": "python",
   "name": "python3"
  },
  "language_info": {
   "codemirror_mode": {
    "name": "ipython",
    "version": 3
   },
   "file_extension": ".py",
   "mimetype": "text/x-python",
   "name": "python",
   "nbconvert_exporter": "python",
   "pygments_lexer": "ipython3",
   "version": "3.7.3"
  }
 },
 "nbformat": 4,
 "nbformat_minor": 4
}
