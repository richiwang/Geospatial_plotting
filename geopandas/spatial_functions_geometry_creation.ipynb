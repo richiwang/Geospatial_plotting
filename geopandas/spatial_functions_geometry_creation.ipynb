{
 "cells": [
  {
   "cell_type": "markdown",
   "metadata": {},
   "source": [
    "# Spatial functions that create new geometries\n",
    "\n",
    "Constructive methods\n",
    "\n",
    "## Buffering\n",
    "\n",
    "Buffering is a very common method in spatial analysis.  If you are taking this course I assume that you know what a buffer is.  In this lesson we will be creating buffers for most of the layers that we have been looking at."
   ]
  },
  {
   "cell_type": "code",
   "execution_count": null,
   "metadata": {},
   "outputs": [],
   "source": [
    "%matplotlib inline\n",
    "import geopandas as gpd\n",
    "\n",
    "buowl = gpd.read_file(\"data/BUOWL_Habitat.shp\")\n",
    "raptors = gpd.read_file(\"data/Raptor_Nests.shp\")\n",
    "linears = gpd.read_file(\"data/Linear_Projects.shp\")\n",
    "eagles = gpd.read_file(\"data/BAEA_Nests.shp\")"
   ]
  },
  {
   "cell_type": "markdown",
   "metadata": {},
   "source": [
    "Lets start with eagles as it is quite easy.  One issue, however, is that GeoPandas requires the distance to be in the same units as the CRS so we will want to reproject the points to UTM so we can provide the buffer distance in meters.  We will create buffers of 1/2 mile (804.5 meters) around all the eagle nests."
   ]
  },
  {
   "cell_type": "code",
   "execution_count": null,
   "metadata": {},
   "outputs": [],
   "source": [
    "eagles=eagles.to_crs(epsg=26913)\n",
    "eagles['buffer']=eagles['geometry'].buffer(804.5)\n",
    "eagles.head()"
   ]
  },
  {
   "cell_type": "markdown",
   "metadata": {},
   "source": [
    "We can see that we do have a new column called buffer that contains a polygon rather than a point so it looks like it worked.  Lets plot out the buffers, but now that we have two GeoDataSeries in our GeoDataFrame we have to specify which we want to use by default using the set_geometry method."
   ]
  },
  {
   "cell_type": "code",
   "execution_count": null,
   "metadata": {},
   "outputs": [],
   "source": [
    "eagles.set_geometry('buffer', inplace=True)\n",
    "eagles.plot()"
   ]
  },
  {
   "cell_type": "markdown",
   "metadata": {},
   "source": [
    "Its hard to see if it worked or not, but it looks like the nests are smaller than the point marker so its probable that we sre seeing polygons. They just appear small at this scale.  Let's zoom in a bit."
   ]
  },
  {
   "cell_type": "code",
   "execution_count": null,
   "metadata": {},
   "outputs": [],
   "source": [
    "eagles.cx[500000:520000,4420000:4440000].plot()"
   ]
  },
  {
   "cell_type": "markdown",
   "metadata": {},
   "source": [
    "Now lets take a look at the linears table.  We will have to convert it to UTM coordinates as well so we can use meters in our buffer distance."
   ]
  },
  {
   "cell_type": "code",
   "execution_count": null,
   "metadata": {},
   "outputs": [],
   "source": [
    "linears.to_crs(epsg=26913, inplace=True)\n",
    "linears.tail()"
   ]
  },
  {
   "cell_type": "code",
   "execution_count": null,
   "metadata": {},
   "outputs": [],
   "source": [
    "linears.cx[516000:520000, 4437000:4441000].plot(column='type', legend=True, figsize=(10,10))"
   ]
  },
  {
   "cell_type": "markdown",
   "metadata": {},
   "source": [
    "We can see that in this area we have a number of linear projects.  These are pipelines, electric lines, access roads, etc associated with an oil and gas field in a region called the DJ Basin north of Denver, Colorado. The other layers represent wildlife species that are present and may impose environmental constraints on construction operations when they are present.  Each linear project has a right-of-way around it and it is assumed that the right away is the area of impact and so distance must be measured from it rather than from the line itself.  Thus we need to create right-of-way polygons by buffering the linear projects by the appropriate diatance.\n",
    "\n",
    "This time we will pass the row_width column to the buffer function rather than a single distance so each polygon will be created as a buffer of the distance given in the row_width column."
   ]
  },
  {
   "cell_type": "code",
   "execution_count": null,
   "metadata": {},
   "outputs": [],
   "source": [
    "linears['buffer'] = linears['geometry'].buffer(linears['row_width'])\n",
    "linears.head()"
   ]
  },
  {
   "cell_type": "code",
   "execution_count": null,
   "metadata": {},
   "outputs": [],
   "source": [
    "linears.set_geometry('buffer', inplace=True)\n",
    "linears.cx[516000:520000, 4437000:4441000].plot(column='type', legend=True, figsize=(10,10))"
   ]
  },
  {
   "cell_type": "markdown",
   "metadata": {},
   "source": [
    "It looks like we have polygon buffers but can we show that the distance are correct?"
   ]
  },
  {
   "cell_type": "code",
   "execution_count": null,
   "metadata": {},
   "outputs": [],
   "source": [
    "linears[linears['Project']==67].plot(figsize=(10,10))"
   ]
  },
  {
   "cell_type": "code",
   "execution_count": null,
   "metadata": {},
   "outputs": [],
   "source": [
    "linears[linears['Project']==67]"
   ]
  },
  {
   "cell_type": "markdown",
   "metadata": {},
   "source": [
    "That looks like the buffer is about 100m as it should be with a 50m row_width"
   ]
  },
  {
   "cell_type": "code",
   "execution_count": null,
   "metadata": {},
   "outputs": [],
   "source": [
    "linears[linears['Project']==1105].plot(figsize=(10,10))"
   ]
  },
  {
   "cell_type": "code",
   "execution_count": null,
   "metadata": {},
   "outputs": [],
   "source": [
    "linears[linears['Project']==1105]"
   ]
  },
  {
   "cell_type": "markdown",
   "metadata": {},
   "source": [
    "And that looks like its 40m wide as it should be for a 20m row_width."
   ]
  },
  {
   "cell_type": "markdown",
   "metadata": {},
   "source": [
    "## Convex Hull\n",
    "\n",
    "Convex hulls create a minimum convex polygon around a geometry.  We'll assign these to a GeoSeries named 'mcp'"
   ]
  },
  {
   "cell_type": "code",
   "execution_count": null,
   "metadata": {},
   "outputs": [],
   "source": [
    "linears['mcp'] = linears['geometry'].convex_hull\n",
    "linears.set_geometry('mcp', inplace=True)\n",
    "linears.cx[516000:520000, 4437000:4441000].plot(column='type', legend=True, figsize=(10,10))"
   ]
  },
  {
   "cell_type": "markdown",
   "metadata": {},
   "source": [
    "## Envelope\n",
    "\n",
    "The envelope method creates a bounding box for each geometry. We'll store this in a field called bb."
   ]
  },
  {
   "cell_type": "code",
   "execution_count": null,
   "metadata": {},
   "outputs": [],
   "source": [
    "linears['bb'] = linears['geometry'].envelope\n",
    "linears.set_geometry('bb', inplace=True)\n",
    "linears.cx[516000:520000, 4437000:4441000].plot(column='type', legend=True, figsize=(10,10))"
   ]
  },
  {
   "cell_type": "markdown",
   "metadata": {},
   "source": [
    "Now lets create buffers of 300m around the burrowing owl habitat."
   ]
  },
  {
   "cell_type": "code",
   "execution_count": null,
   "metadata": {},
   "outputs": [],
   "source": [
    "buowl.to_crs(epsg=26913, inplace=True)"
   ]
  },
  {
   "cell_type": "code",
   "execution_count": null,
   "metadata": {},
   "outputs": [],
   "source": [
    "buowl['buffer']=buowl['geometry'].buffer(300)"
   ]
  },
  {
   "cell_type": "code",
   "execution_count": null,
   "metadata": {},
   "outputs": [],
   "source": [
    "buowl.set_geometry('buffer').plot(figsize=(10,10))"
   ]
  },
  {
   "cell_type": "markdown",
   "metadata": {},
   "source": [
    "## Centroid\n",
    "\n",
    "We can also use the centroid method to create a point at the geometric center of the polygon.  **Note:** This centroid is not guaranteed to actually be inside the polygon.  If the polygon is simple it usually will be but for more complex polygons it might not be.\n",
    "\n",
    "We will store the burrowing owl habitat's centroid in a column named centroid"
   ]
  },
  {
   "cell_type": "code",
   "execution_count": null,
   "metadata": {},
   "outputs": [],
   "source": [
    "buowl['centroid']=buowl['geometry'].centroid\n",
    "buowl.head()"
   ]
  },
  {
   "cell_type": "code",
   "execution_count": null,
   "metadata": {},
   "outputs": [],
   "source": [
    "buowl.set_geometry('centroid').plot(figsize=(10,10))"
   ]
  },
  {
   "cell_type": "markdown",
   "metadata": {},
   "source": [
    "There are more methods that create geometry but these are the most important ones.  You can see more information in the [GeoPandas](https://geopandas.org/geometric_manipulations.html) and [Shapely](https://shapely.readthedocs.io/en/latest/manual.html#constructive-methods) online documentation. "
   ]
  },
  {
   "cell_type": "code",
   "execution_count": null,
   "metadata": {},
   "outputs": [],
   "source": []
  }
 ],
 "metadata": {
  "kernelspec": {
   "display_name": "Python 3",
   "language": "python",
   "name": "python3"
  },
  "language_info": {
   "codemirror_mode": {
    "name": "ipython",
    "version": 3
   },
   "file_extension": ".py",
   "mimetype": "text/x-python",
   "name": "python",
   "nbconvert_exporter": "python",
   "pygments_lexer": "ipython3",
   "version": "3.7.3"
  }
 },
 "nbformat": 4,
 "nbformat_minor": 4
}
