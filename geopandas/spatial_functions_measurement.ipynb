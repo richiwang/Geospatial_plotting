{
 "cells": [
  {
   "cell_type": "markdown",
   "metadata": {},
   "source": [
    "# Spatial functions - 1\n",
    "\n",
    "## Measurements - area"
   ]
  },
  {
   "cell_type": "code",
   "execution_count": null,
   "metadata": {},
   "outputs": [],
   "source": [
    "%matplotlib inline\n",
    "import geopandas as gpd\n",
    "\n",
    "buowl = gpd.read_file(\"data/BUOWL_Habitat.shp\")\n",
    "raptors = gpd.read_file(\"data/Raptor_Nests.shp\")\n",
    "linears = gpd.read_file(\"data/Linear_Projects.shp\")"
   ]
  },
  {
   "cell_type": "markdown",
   "metadata": {},
   "source": [
    "If we are going to work with measurements then we need to convert to a projection suitable for calculating areas and lengths.\n",
    "\n",
    "EPSG:2163 is the US National Atlas equal area projection which covers the entire US\n",
    "\n",
    "If the area is small enough UTM zones will likely be more accurate"
   ]
  },
  {
   "cell_type": "code",
   "execution_count": null,
   "metadata": {},
   "outputs": [],
   "source": [
    "buowl = buowl.to_crs(epsg=2163)\n",
    "buowl.crs"
   ]
  },
  {
   "cell_type": "markdown",
   "metadata": {},
   "source": [
    "Create a new field showing the area calculated with crs = 2163"
   ]
  },
  {
   "cell_type": "code",
   "execution_count": null,
   "metadata": {},
   "outputs": [],
   "source": [
    "buowl['area_2163']=buowl['geometry'].area/10000\n",
    "buowl.head(10)"
   ]
  },
  {
   "cell_type": "markdown",
   "metadata": {},
   "source": [
    "Convert the GeoDataFrame to UTM Zone 13 coordinates"
   ]
  },
  {
   "cell_type": "code",
   "execution_count": null,
   "metadata": {},
   "outputs": [],
   "source": [
    "buowl = buowl.to_crs(epsg=26913)"
   ]
  },
  {
   "cell_type": "markdown",
   "metadata": {},
   "source": [
    "Now create a new field showing the area when projected to UTM zone 13 "
   ]
  },
  {
   "cell_type": "code",
   "execution_count": null,
   "metadata": {},
   "outputs": [],
   "source": [
    "buowl['area_26913']=buowl['geometry'].area/10000\n",
    "buowl.head()"
   ]
  },
  {
   "cell_type": "markdown",
   "metadata": {},
   "source": [
    "Now lets create a field showing the difference in areas measured as a percentage and check the range of differences."
   ]
  },
  {
   "cell_type": "code",
   "execution_count": null,
   "metadata": {},
   "outputs": [],
   "source": [
    "buowl['area_diff']=(buowl['area_26913']-buowl['area_2163'])/buowl['area_2163']*100\n",
    "buowl.describe()"
   ]
  },
  {
   "cell_type": "markdown",
   "metadata": {},
   "source": [
    "## Measurements - length and perimeter\n",
    "\n",
    "length can be calculated simply by calling the length method on a GeoSeries"
   ]
  },
  {
   "cell_type": "code",
   "execution_count": null,
   "metadata": {},
   "outputs": [],
   "source": [
    "buowl['perimeter'] = buowl['geometry'].length\n",
    "buowl.head()"
   ]
  },
  {
   "cell_type": "markdown",
   "metadata": {},
   "source": [
    "Now lets calculate what the minimum perimeter of a polygon with the same area could be.  This would be a circle of the same area.\n",
    "\n",
    "To calculate the perimeter of a circle with a given area we have to use the formula for the area of a circle $A = \\pi r^2$ and solve for the radius $ r=\\sqrt{\\frac{A}{\\pi} }$ then we can use the radius to calculate the circumference of a circle of that area $C=2\\pi r$"
   ]
  },
  {
   "cell_type": "code",
   "execution_count": null,
   "metadata": {},
   "outputs": [],
   "source": [
    "buowl['min_perimeter'] = (buowl['geometry'].area/3.14159)**0.5*3.14159*2\n",
    "buowl.head()"
   ]
  },
  {
   "cell_type": "markdown",
   "metadata": {},
   "source": [
    "Now just for fun lets calculate the ratio of the perimeter of a polygon to the perimeter of a circle with the same area.\n",
    "\n",
    "The lowest possible value would be 1 which would be a circle.\n",
    "\n",
    "Higher values indicate more complex shapes"
   ]
  },
  {
   "cell_type": "code",
   "execution_count": null,
   "metadata": {},
   "outputs": [],
   "source": [
    "buowl[\"perimeter_ratio\"] = buowl['perimeter']/buowl['min_perimeter']\n",
    "buowl.head()"
   ]
  },
  {
   "cell_type": "markdown",
   "metadata": {},
   "source": [
    "And lets sort the burrowing owl habitat polygons in descending order"
   ]
  },
  {
   "cell_type": "code",
   "execution_count": null,
   "metadata": {},
   "outputs": [],
   "source": [
    "buowl.sort_values('perimeter_ratio', ascending=False)"
   ]
  },
  {
   "cell_type": "markdown",
   "metadata": {},
   "source": [
    "The polygon with the most complex shape has a habitat_id of 323. Lets look at its shape."
   ]
  },
  {
   "cell_type": "code",
   "execution_count": null,
   "metadata": {},
   "outputs": [],
   "source": [
    "buowl[buowl['habitat_id']==378].plot()"
   ]
  },
  {
   "cell_type": "markdown",
   "metadata": {},
   "source": [
    "Now lets calculate the length of some linear features"
   ]
  },
  {
   "cell_type": "code",
   "execution_count": null,
   "metadata": {},
   "outputs": [],
   "source": [
    "linears.crs"
   ]
  },
  {
   "cell_type": "markdown",
   "metadata": {},
   "source": [
    "The linears GeoDataFrame is projected with geographic coordinates (latitude and longitude) which are not suitable for calculating measurements.  \n",
    "\n",
    "We could of course reproject the entire GeoDataFrame like we did with burrowing owls but what if we want to leave the GeoDataFrame in geographic coordinates and still get a length in meters?"
   ]
  },
  {
   "cell_type": "code",
   "execution_count": null,
   "metadata": {},
   "outputs": [],
   "source": [
    "linears['length']=linears['geometry'].to_crs(epsg=26913).length\n",
    "linears"
   ]
  },
  {
   "cell_type": "markdown",
   "metadata": {},
   "source": [
    "Just for fun lets calculate the area and length of a point GeoDataFrame"
   ]
  },
  {
   "cell_type": "code",
   "execution_count": null,
   "metadata": {},
   "outputs": [],
   "source": [
    "raptors['area']=raptors['geometry'].area\n",
    "raptors['length']=raptors['geometry'].length\n",
    "raptors"
   ]
  },
  {
   "cell_type": "code",
   "execution_count": null,
   "metadata": {},
   "outputs": [],
   "source": []
  }
 ],
 "metadata": {
  "kernelspec": {
   "display_name": "Python 3",
   "language": "python",
   "name": "python3"
  },
  "language_info": {
   "codemirror_mode": {
    "name": "ipython",
    "version": 3
   },
   "file_extension": ".py",
   "mimetype": "text/x-python",
   "name": "python",
   "nbconvert_exporter": "python",
   "pygments_lexer": "ipython3",
   "version": "3.7.3"
  }
 },
 "nbformat": 4,
 "nbformat_minor": 4
}
