{
 "cells": [
  {
   "cell_type": "markdown",
   "metadata": {},
   "source": [
    "# Updating columns from geometry.\n",
    "\n",
    "Most desktop GIS software has a calculate geometry operation that will allow you to create a new field or update an existing field with information from the geometry.  We've seen some examples of this in the section on spatial functions for measurement.\n",
    "\n",
    "# Point geometries\n",
    "\n",
    "A very common example is creating columns to hold the coordinates of point data, such as a latitude and longitude column.  This is also quite easy in GeoPandas"
   ]
  },
  {
   "cell_type": "code",
   "execution_count": null,
   "metadata": {},
   "outputs": [],
   "source": [
    "%matplotlib inline\n",
    "import geopandas as gpd\n",
    "\n",
    "raptor = gpd.read_file(\"data/Raptor_Nests.shp\")\n",
    "raptor.rename(inplace=True, columns={\"postgis_fi\":\"gid\", \"lat_y_dd\":\"latitude\", \"long_x_dd\":\"longitude\"})\n",
    "raptor"
   ]
  },
  {
   "cell_type": "markdown",
   "metadata": {},
   "source": [
    "First lets recalculate the existing latitude and longitude columns. Notice that the values in the latitude and longitude columns do not correspond to the values in the wkt expression of the geometry in the geometry column.  This is a result of a number of historical artifacts about this data that are not terribly important right now. Whats important is that we can update them quite easily.\n",
    "\n",
    "Remember that the geometry column contains Shapely geometry objects and GeoPandas implements most shapely methods and properties for those objects. These properties include the x and y property for points so we can simply assign those attributes to the GeoPandas column as follows."
   ]
  },
  {
   "cell_type": "code",
   "execution_count": null,
   "metadata": {},
   "outputs": [],
   "source": [
    "raptor[\"latitude\"] = raptor[\"geometry\"].y\n",
    "raptor[\"longitude\"] = raptor[\"geometry\"].x\n",
    "raptor"
   ]
  },
  {
   "cell_type": "markdown",
   "metadata": {},
   "source": [
    "This updated existing fields to refelect the current geometry but we could just as easily have created new fields, or fields to hold coordinates in a different CRS"
   ]
  },
  {
   "cell_type": "code",
   "execution_count": null,
   "metadata": {},
   "outputs": [],
   "source": [
    "raptor['northing_26913'] = raptor[\"geometry\"].to_crs(epsg=26913).y\n",
    "raptor['easting_26913'] = raptor[\"geometry\"].to_crs(epsg=26913).x\n",
    "raptor"
   ]
  },
  {
   "cell_type": "markdown",
   "metadata": {},
   "source": [
    "# Line geometries\n",
    "\n",
    "Other possibilities exist for line geometries such as the coordinates of the start, end, or mid point.  "
   ]
  },
  {
   "cell_type": "code",
   "execution_count": null,
   "metadata": {},
   "outputs": [],
   "source": [
    "linear = gpd.read_file(\"data/Linear_Projects.shp\")\n",
    "linear"
   ]
  },
  {
   "cell_type": "markdown",
   "metadata": {},
   "source": [
    "In these cases, where geopandas doesn't directly implement a method it is possible to work with the shapely geometries in a custom function that is applied to the geometries property. \n",
    "\n",
    "The coords property of a Shapely linestring object returns the points that make up the line. If you want to know how many points are in the linestring you can get the length of that list. \n",
    "\n",
    "This can get complicated if you have MultiLineString geometries, in which case the number of vertices in each LineString must be summed up. When a column contains both simple and multi geometries you may need to handle each case seperate as below:"
   ]
  },
  {
   "cell_type": "code",
   "execution_count": null,
   "metadata": {},
   "outputs": [],
   "source": [
    "def n_points(geom):\n",
    "    if geom.type == 'LineString':\n",
    "        return len(geom.coords)\n",
    "    elif geom.type == 'MultiLineString':\n",
    "        n_points=0\n",
    "        for part in geom.geoms:\n",
    "            n_points += len(part.coords)\n",
    "        return n_points\n",
    "\n",
    "linear['n_points'] = linear['geometry'].apply(n_points)\n",
    "linear.sort_values(\"n_points\")"
   ]
  },
  {
   "cell_type": "markdown",
   "metadata": {},
   "source": [
    "Similarly you can use standard python methods to get the first or last point in a LineString and work with the geometries that way."
   ]
  },
  {
   "cell_type": "code",
   "execution_count": null,
   "metadata": {},
   "outputs": [],
   "source": [
    "def end_pt(geom):\n",
    "    if geom.type == 'LineString':\n",
    "        return geom.coords[-1]\n",
    "\n",
    "linear['end'] = linear['geometry'].apply(end_pt)\n",
    "linear"
   ]
  },
  {
   "cell_type": "markdown",
   "metadata": {},
   "source": [
    "Note that these fields now contain tuples, not points but they could easily be converted to Shapely points for a geodataseries or unpacked into x and y columns for each point.\n",
    "\n",
    "# Linear referencing with Shapely\n",
    "\n",
    "Shapely has tools for linear referencing and interpolation along a line by distance or proportion.  More info can be found in the Shapely documentation but a simple example to find the midpoint of a line is below."
   ]
  },
  {
   "cell_type": "code",
   "execution_count": null,
   "metadata": {},
   "outputs": [],
   "source": [
    "def mid_point(geom):\n",
    "    return geom.interpolate(0.5, normalized=True)\n",
    "\n",
    "linear['mid_pt2'] = linear['geometry'].apply(mid_point)\n",
    "linear"
   ]
  },
  {
   "cell_type": "markdown",
   "metadata": {},
   "source": [
    "# Polygon geometries\n",
    "\n",
    "GeoPandas implements a centroid and representative_point method as we have discussed previously.  More complex geometrical calculations can be achieved by applying custom functions to shapely objects as we did with linear geometries."
   ]
  },
  {
   "cell_type": "code",
   "execution_count": null,
   "metadata": {},
   "outputs": [],
   "source": []
  }
 ],
 "metadata": {
  "kernelspec": {
   "display_name": "Python 3",
   "language": "python",
   "name": "python3"
  },
  "language_info": {
   "codemirror_mode": {
    "name": "ipython",
    "version": 3
   },
   "file_extension": ".py",
   "mimetype": "text/x-python",
   "name": "python",
   "nbconvert_exporter": "python",
   "pygments_lexer": "ipython3",
   "version": "3.7.3"
  }
 },
 "nbformat": 4,
 "nbformat_minor": 4
}
