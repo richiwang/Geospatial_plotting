{
 "cells": [
  {
   "cell_type": "markdown",
   "metadata": {},
   "source": [
    "# Exploratory data analysis\n",
    "\n",
    "Pandas provides a rich set of plotting tools for exploratory data analysis, however there is a huge ecosystem avaiable for plotting not just maps but charts of various types.  In fact I expect to create an entire course about Geospatial Data Visualization.\n",
    "\n",
    "In the meantime, however I will introduce the topic in this lecture as I think it provides an additional reason to use GeoPandas in that we can integrate graphical output with our spatial and tabular data.  Keep in mind however that this lecture is just the briefest of introduction as to what is possible.\n",
    "\n",
    "Lets load some data."
   ]
  },
  {
   "cell_type": "code",
   "execution_count": null,
   "metadata": {},
   "outputs": [],
   "source": [
    "%matplotlib inline\n",
    "import geopandas as gpd\n",
    "\n",
    "raptor = gpd.read_file(\"data/Raptor_Nests.shp\")\n",
    "raptor.rename(inplace=True, columns={\"postgis_fi\":\"gid\", \"lat_y_dd\":\"latitude\", \"long_x_dd\":\"longitude\"})\n",
    "raptor"
   ]
  },
  {
   "cell_type": "markdown",
   "metadata": {},
   "source": [
    "One of the most common types of exploratory data analysis is plotting out a histogram of numeric data to look at its distribution.  \n",
    "\n",
    "The Pandas hist() method returns a histogram of all numeric fields in the DataFrame."
   ]
  },
  {
   "cell_type": "code",
   "execution_count": null,
   "metadata": {},
   "outputs": [],
   "source": [
    "raptor.hist()"
   ]
  },
  {
   "cell_type": "markdown",
   "metadata": {},
   "source": [
    "You can also get a histogram of a specific data series by calling the hist method on the series."
   ]
  },
  {
   "cell_type": "code",
   "execution_count": null,
   "metadata": {},
   "outputs": [],
   "source": [
    "raptor['longitude'].hist()"
   ]
  },
  {
   "cell_type": "markdown",
   "metadata": {},
   "source": [
    "Of course you can include parameters to limit the column, partition the histogram by a categorical column, specify bin size, output size and colors, etc. Please, refer to the documentation for the full set of parameters available."
   ]
  },
  {
   "cell_type": "code",
   "execution_count": null,
   "metadata": {},
   "outputs": [],
   "source": [
    "raptor.hist(column = 'latitude', by='recentstat', legend=True, bins=30, figsize=(15,15), color='red')"
   ]
  },
  {
   "cell_type": "markdown",
   "metadata": {},
   "source": [
    "We can also use the bloxplot method to see boxplots for numerical data partitioned by a categorical value as follows"
   ]
  },
  {
   "cell_type": "code",
   "execution_count": null,
   "metadata": {},
   "outputs": [],
   "source": [
    "raptor.boxplot(column='latitude', by='recentstat')"
   ]
  },
  {
   "cell_type": "markdown",
   "metadata": {},
   "source": [
    "Of course, if we just use the plot method on a GeoDataFrame the output will be a map of the geometry column by default."
   ]
  },
  {
   "cell_type": "code",
   "execution_count": null,
   "metadata": {},
   "outputs": [],
   "source": [
    "raptor.plot()"
   ]
  },
  {
   "cell_type": "markdown",
   "metadata": {},
   "source": [
    "but we can also call some of the Pandas plotting method on a single Pandas data series."
   ]
  },
  {
   "cell_type": "code",
   "execution_count": null,
   "metadata": {},
   "outputs": [],
   "source": [
    "raptor['latitude'].hist(bins=30)"
   ]
  },
  {
   "cell_type": "markdown",
   "metadata": {},
   "source": [
    "The plot method on a non-geometry dataseries returns a line graph, with the index values on the x axis."
   ]
  },
  {
   "cell_type": "code",
   "execution_count": null,
   "metadata": {},
   "outputs": [],
   "source": [
    "raptor['latitude'].plot()"
   ]
  },
  {
   "cell_type": "markdown",
   "metadata": {},
   "source": [
    "If you want to use pandas plotting methods on your tabular data you can easily reduce the GeoDataFrame to a normal Pandas DataFrame simply by subsetting the dataframe by column and not including the geometry field.\n",
    "\n",
    "In this example we create a scatterplot of longitude and latitude which presents a similar output to the GeoPandas plot method although the scaling of the axes is not guaranteed to be equal"
   ]
  },
  {
   "cell_type": "code",
   "execution_count": null,
   "metadata": {},
   "outputs": [],
   "source": [
    "raptor[['longitude', 'latitude', 'recentstat']].plot.scatter(x='longitude', y='latitude')"
   ]
  },
  {
   "cell_type": "markdown",
   "metadata": {},
   "source": [
    "For some plots you will need to summarize the dataframe. In this example we summarize the raptor data by the recentstat category and use the count aggregator to create a new dataset that is appropriate to use with a pie chart."
   ]
  },
  {
   "cell_type": "code",
   "execution_count": null,
   "metadata": {},
   "outputs": [],
   "source": [
    "stat_count = raptor[['longitude', 'recentstat']].groupby('recentstat').agg('count')\n",
    "stat_count"
   ]
  },
  {
   "cell_type": "code",
   "execution_count": null,
   "metadata": {},
   "outputs": [],
   "source": [
    "stat_count.plot.pie(y='longitude')"
   ]
  },
  {
   "cell_type": "markdown",
   "metadata": {},
   "source": [
    "This same data coud be used in a bar chart"
   ]
  },
  {
   "cell_type": "code",
   "execution_count": null,
   "metadata": {},
   "outputs": [],
   "source": [
    "stat_count.plot.bar(y='longitude')"
   ]
  },
  {
   "cell_type": "markdown",
   "metadata": {},
   "source": [
    "Hopefully this provides you with a starting point for exploratory data analysis with Pandas and GeoPandas.  There could certainly be a lot more coverage of this topic.\n",
    "\n",
    "Keep in mind that Pandas and GeoPandas are using matplotlib in the background for plotting.  Although the syntax in Pandas is simpler in my opinion, using matplotlib directly is also possible and provides a stunning amount of flexibility.\n",
    "\n",
    "Other data vizualization libraries you can use with GeoPandas include Seaborn which also uses matplotlib in the background but adds some nice functionality with simpler syntax.  Plotly is another package for vizualizations but Plotly provides interactive charts that allow you to see actual data values when hovering the mouse over the chart, zoom in or out,  and much more."
   ]
  },
  {
   "cell_type": "code",
   "execution_count": null,
   "metadata": {},
   "outputs": [],
   "source": []
  }
 ],
 "metadata": {
  "kernelspec": {
   "display_name": "Python 3",
   "language": "python",
   "name": "python3"
  },
  "language_info": {
   "codemirror_mode": {
    "name": "ipython",
    "version": 3
   },
   "file_extension": ".py",
   "mimetype": "text/x-python",
   "name": "python",
   "nbconvert_exporter": "python",
   "pygments_lexer": "ipython3",
   "version": "3.7.3"
  }
 },
 "nbformat": 4,
 "nbformat_minor": 4
}
