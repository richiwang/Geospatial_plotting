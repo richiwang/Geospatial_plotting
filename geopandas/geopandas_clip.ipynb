{
 "cells": [
  {
   "cell_type": "markdown",
   "metadata": {},
   "source": [
    "# Clipping in GeoPandas\n",
    "\n",
    "There are two methods for clipping data in GeoPandas.\n",
    "\n",
    "The first one we already know about really. The intersection operator will return the intersection of two geometries and it can be applied to an entire GeoSeries.\n",
    "\n",
    "To demonstrate this lets get the subset of raptor nests in Boulder county.  We already have seen how to do this using the within predicate which works great for getting the points that fall in a polygon.  We'll do it a different way using the intersection operator.\n",
    "\n",
    "First lets load our county data and create a polygon for Boulder County."
   ]
  },
  {
   "cell_type": "code",
   "execution_count": null,
   "metadata": {},
   "outputs": [],
   "source": [
    "%matplotlib inline\n",
    "import geopandas as gpd\n",
    "\n",
    "counties = gpd.read_file(\"data/colorado_counties.shp\")\n",
    "boulder_county = counties[counties['NAMELSAD10']=='Boulder County'].unary_union\n",
    "boulder_county"
   ]
  },
  {
   "cell_type": "markdown",
   "metadata": {},
   "source": [
    "Next we'll load in the raptor data and plot it over boulder county"
   ]
  },
  {
   "cell_type": "code",
   "execution_count": null,
   "metadata": {},
   "outputs": [],
   "source": [
    "basemap = counties[counties['NAMELSAD10']=='Boulder County'].boundary.plot(color='k')\n",
    "raptors = gpd.read_file(\"data/Raptor_Nests.shp\")\n",
    "raptors.plot(ax=basemap, color='red')"
   ]
  },
  {
   "cell_type": "markdown",
   "metadata": {},
   "source": [
    "Now lets clip out just the raptor data in boulder county using the intersects predicate"
   ]
  },
  {
   "cell_type": "code",
   "execution_count": null,
   "metadata": {},
   "outputs": [],
   "source": [
    "boulder_nests = raptors[raptors['geometry'].intersects(boulder_county)]\n",
    "basemap = counties[counties['NAMELSAD10']=='Boulder County'].boundary.plot(color='k')\n",
    "boulder_nests.plot(ax=basemap, color='red')"
   ]
  },
  {
   "cell_type": "markdown",
   "metadata": {},
   "source": [
    "We could have used the within predicate like we did before. As long as we are getting points we would get the same result.\n",
    "\n",
    "But we can get different results with polygons.  Lets buffer the raptor nests to turn them into polygons and plot it out again"
   ]
  },
  {
   "cell_type": "code",
   "execution_count": null,
   "metadata": {},
   "outputs": [],
   "source": [
    "raptors['buffer']=raptors['geometry'].buffer(0.01)\n",
    "raptors.set_geometry('buffer', inplace=True)\n",
    "boulder_nests = raptors[raptors['buffer'].intersects(boulder_county)]\n",
    "basemap = counties[counties['NAMELSAD10']=='Boulder County'].boundary.plot(color='k')\n",
    "boulder_nests.plot(ax=basemap, color='red')"
   ]
  },
  {
   "cell_type": "markdown",
   "metadata": {},
   "source": [
    "Lets ignore for now, the fact that I buffered on a geographic CRS so I ended up with weird oval buffers. We'll see that we actually have a few extra nests that aren't even in Boulder county because they are close enough that their buffers intersect with Boulder county.\n",
    "\n",
    "Lets try it again with the within predicate."
   ]
  },
  {
   "cell_type": "code",
   "execution_count": null,
   "metadata": {},
   "outputs": [],
   "source": [
    "boulder_nests = raptors[raptors['buffer'].within(boulder_county)]\n",
    "basemap = counties[counties['NAMELSAD10']=='Boulder County'].boundary.plot(color='k')\n",
    "boulder_nests.plot(ax=basemap, color='red')"
   ]
  },
  {
   "cell_type": "markdown",
   "metadata": {},
   "source": [
    "Now we see that we have a lot less nests because we are not including nests that are within Boulder county but whose buffers cross the county line.\n",
    "\n",
    "This is still not what we want.  We want all the nests that are in Boulder County but only the part of the buffers that are inside the county limits.\n",
    "\n",
    "To do this we need to clip the buffers to the county polygon."
   ]
  },
  {
   "cell_type": "code",
   "execution_count": null,
   "metadata": {},
   "outputs": [],
   "source": [
    "boulder_nests = gpd.clip(raptors, counties[counties['NAMELSAD10']=='Boulder County'])\n",
    "basemap = counties[counties['NAMELSAD10']=='Boulder County'].boundary.plot(color='k')\n",
    "boulder_nests['geometry'].plot(ax=basemap, color='red')"
   ]
  },
  {
   "cell_type": "markdown",
   "metadata": {},
   "source": [
    "And that is exactly what we get with the clip method.  All the nests within Boulder county with their buffers clipped at the county line.  Note that the data frame that is returned no longer has a point geometry. Instead the geometry column contains the clipped buffers and it retains the full buffer geometry in the 'buffer' GeoSeries.\n",
    "\n",
    "If it is important that you retain the original point you can either take the centroid of the buffer or create another column that is NOT named 'geometry' that is a duplicate of the point data."
   ]
  },
  {
   "cell_type": "code",
   "execution_count": null,
   "metadata": {},
   "outputs": [],
   "source": [
    "boulder_nests"
   ]
  },
  {
   "cell_type": "code",
   "execution_count": null,
   "metadata": {},
   "outputs": [],
   "source": []
  }
 ],
 "metadata": {
  "kernelspec": {
   "display_name": "Python 3",
   "language": "python",
   "name": "python3"
  },
  "language_info": {
   "codemirror_mode": {
    "name": "ipython",
    "version": 3
   },
   "file_extension": ".py",
   "mimetype": "text/x-python",
   "name": "python",
   "nbconvert_exporter": "python",
   "pygments_lexer": "ipython3",
   "version": "3.7.3"
  }
 },
 "nbformat": 4,
 "nbformat_minor": 4
}
